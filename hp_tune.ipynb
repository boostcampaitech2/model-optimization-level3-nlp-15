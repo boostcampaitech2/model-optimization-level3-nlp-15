{
 "cells": [
  {
   "cell_type": "code",
   "execution_count": 13,
   "metadata": {},
   "outputs": [],
   "source": [
    "# !pip install transformers"
   ]
  },
  {
   "cell_type": "code",
   "execution_count": 1,
   "metadata": {},
   "outputs": [],
   "source": [
    "import optuna\n",
    "from src.subset_dataloader import sub_create_dataloader\n",
    "from src.model import Model\n",
    "from src.utils.torch_utils import model_info, check_runtime\n",
    "from src.trainer import TorchTrainer, count_model_params\n",
    "from typing import Any, Dict, List, Tuple\n",
    "import argparse\n",
    "import os\n",
    "from datetime import datetime\n",
    "from typing import Any, Dict, Tuple, Union\n",
    "\n",
    "import torch\n",
    "import torch.nn as nn\n",
    "import torch.optim as optim\n",
    "import yaml\n",
    "\n",
    "from src.dataloader import create_dataloader\n",
    "from src.loss import CustomCriterion\n",
    "from src.model import Model\n",
    "from src.trainer import TorchTrainer\n",
    "from src.utils.common import get_label_counts, read_yaml\n",
    "from src.utils.torch_utils import check_runtime, model_info\n",
    "\n",
    "import random\n",
    "import numpy as np\n",
    "\n",
    "from transformers import AdamW, get_linear_schedule_with_warmup"
   ]
  },
  {
   "cell_type": "code",
   "execution_count": 2,
   "metadata": {},
   "outputs": [],
   "source": [
    "def set_seed(seed: int):\n",
    "    \"\"\"\n",
    "    Helper function for reproducible behavior to set the seed in ``random``, ``numpy``, ``torch`` and/or ``tf`` (if\n",
    "    installed).\n",
    "\n",
    "    Args:\n",
    "        seed (:obj:`int`): The seed to set.\n",
    "    \"\"\"\n",
    "    random.seed(seed)\n",
    "    np.random.seed(seed)\n",
    "    if torch.cuda.is_available():\n",
    "        torch.manual_seed(seed)\n",
    "        torch.cuda.manual_seed_all(seed)\n",
    "        # ^^ safe to call this function even if cuda is not available\n",
    "set_seed(42)"
   ]
  },
  {
   "cell_type": "code",
   "execution_count": 3,
   "metadata": {},
   "outputs": [],
   "source": [
    "if not torch.cuda.is_available():\n",
    "    device = torch.device(\"cpu\")\n",
    "else:\n",
    "    device = torch.device(f\"cuda:0\")"
   ]
  },
  {
   "cell_type": "code",
   "execution_count": 4,
   "metadata": {},
   "outputs": [],
   "source": [
    "DATA_PATH = '../data'\n",
    "RESULT_MODEL_PATH = './final_best.pt'"
   ]
  },
  {
   "cell_type": "code",
   "execution_count": 17,
   "metadata": {},
   "outputs": [],
   "source": [
    "def search_hyperparam(trial: optuna.trial.Trial) -> Dict[str, Any]:\n",
    "    \"\"\"Search hyperparam from user-specified search space.\"\"\"\n",
    "    epochs = 50\n",
    "    img_size = 96 # tuning할 때만, 96을 활용\n",
    "    n_select = trial.suggest_int(\"n_select\", low=0, high=6, step=2)\n",
    "    batch_size = trial.suggest_int(\"batch_size\", low=32, high=128, step=32)\n",
    "    # lr = trial.suggest_float('learning_rate', 1e-5, 1e-2, log=True)\n",
    "    lr = 0.01\n",
    "    optim = trial.suggest_categorical('optimizer', ['MomentumSGD', 'AdamW'])\n",
    "    scheduler = trial.suggest_categorical('scheduler', ['linear', 'cycle'])\n",
    "\n",
    "    return {\n",
    "        \"EPOCHS\": epochs,\n",
    "        \"IMG_SIZE\": img_size,\n",
    "        \"n_select\": n_select,\n",
    "        \"BATCH_SIZE\": batch_size,\n",
    "        \"INIT_LR\": lr,\n",
    "        \"optimizer\": optim,\n",
    "        \"scheduler\": scheduler\n",
    "    }"
   ]
  },
  {
   "cell_type": "code",
   "execution_count": 18,
   "metadata": {},
   "outputs": [],
   "source": [
    "model_config = read_yaml(cfg='/opt/ml/code/search_model/model_23.yaml')"
   ]
  },
  {
   "cell_type": "code",
   "execution_count": 20,
   "metadata": {},
   "outputs": [],
   "source": [
    "def objective(trial: optuna.trial.Trial, device, fp16) -> Tuple[float, int, float]:\n",
    "    \"\"\"Optuna objective.\n",
    "    Args:\n",
    "        trial\n",
    "    Returns:\n",
    "        float: score1(e.g. accuracy)\n",
    "        int: score2(e.g. params)\n",
    "    \"\"\"\n",
    "    model = Model(model_config, verbose=True)\n",
    "    model.to(device)\n",
    "    model.model.to(device)\n",
    "\n",
    "    hyperparams = search_hyperparam(trial)\n",
    "    # check ./data_configs/data.yaml for config information\n",
    "    data_config: Dict[str, Any] = {}\n",
    "    data_config[\"DATA_PATH\"] = DATA_PATH\n",
    "    data_config[\"DATASET\"] = \"TACO\"\n",
    "    data_config[\"AUG_TRAIN\"] = \"randaugment_train\" # default: randaugment_train\n",
    "    data_config[\"AUG_TEST\"] = \"simple_augment_test\"\n",
    "    data_config[\"AUG_TRAIN_PARAMS\"] = {\n",
    "        \"n_select\": hyperparams[\"n_select\"],\n",
    "    }\n",
    "    data_config['AUG_TRAIN_PARAMS'] = None\n",
    "    data_config[\"AUG_TEST_PARAMS\"] = None\n",
    "    data_config[\"BATCH_SIZE\"] = hyperparams[\"BATCH_SIZE\"]\n",
    "    data_config[\"VAL_RATIO\"] = 0.8\n",
    "    data_config[\"IMG_SIZE\"] = hyperparams[\"IMG_SIZE\"]\n",
    "    data_config[\"INIT_LR\"] = hyperparams[\"INIT_LR\"]\n",
    "    data_config[\"EPOCHS\"] = hyperparams['EPOCHS']\n",
    "    data_config[\"optimizer\"] = hyperparams[\"optimizer\"]\n",
    "    data_config[\"scheduler\"] = hyperparams[\"scheduler\"]\n",
    "    \"\"\"이부분이 config를 저장하는 부분입니다. 위의 lr,fp16,epochs는 원래 함수에는 없지만\n",
    "    config를 바로 사용할 수 있게 추가했습니다.\"\"\"\n",
    "    \n",
    "    k = 1\n",
    "    file_name = f\"search_params_without_lr/model_{k}.yaml\"\n",
    "    while os.path.exists(file_name):\n",
    "        print(k)\n",
    "        k += 1\n",
    "        file_name = f\"search_params_without_lr/model_{k}.yaml\"\n",
    "    print(model_config)\n",
    "    \"model config와 data config를 저장\"\n",
    "    with open(f\"search_params_without_lr/model_{k}.yaml\", \"w\") as outfile:\n",
    "        yaml.dump(model_config, outfile)\n",
    "    with open(f\"search_params_without_lr/data_{k}.yaml\", \"w\") as outfile:\n",
    "        yaml.dump(data_config, outfile)\n",
    "\n",
    "    mean_time = check_runtime(\n",
    "        model.model,\n",
    "        [model_config[\"input_channel\"]] + model_config[\"INPUT_SIZE\"],\n",
    "        device,\n",
    "    )\n",
    "    model_info(model, verbose=True)\n",
    "    train_loader, val_loader, test_loader = sub_create_dataloader(data_config)\n",
    "\n",
    "    # criterion = nn.CrossEntropyLoss()\n",
    "    if data_config[\"optimizer\"] == 'MomentumSGD':\n",
    "        optimizer = torch.optim.SGD(model.parameters(), lr=data_config['INIT_LR'], momentum=0.9)\n",
    "    elif data_config[\"optimizer\"] == 'AdamW':\n",
    "        optimizer = AdamW(model.parameters(), lr=data_config['INIT_LR'], eps=1e-8)\n",
    "\n",
    "    if data_config[\"scheduler\"] == 'linear':\n",
    "        t_total = len(train_loader) * data_config[\"EPOCHS\"]\n",
    "        warmup_steps = int(t_total * 0.1)\n",
    "        scheduler = get_linear_schedule_with_warmup(\n",
    "            optimizer, num_warmup_steps=warmup_steps, num_training_steps=t_total\n",
    "        )  \n",
    "    elif data_config['scheduler'] == 'cycle':\n",
    "        scheduler = torch.optim.lr_scheduler.OneCycleLR(\n",
    "            optimizer,\n",
    "            max_lr=data_config[\"INIT_LR\"],\n",
    "            steps_per_epoch=len(train_loader),\n",
    "            epochs=hyperparams[\"EPOCHS\"],\n",
    "            pct_start=0.05,\n",
    "        )\n",
    "    # optimizer = torch.optim.SGD(model.parameters(), lr=data_config[\"INIT_LR\"])\n",
    "    # scheduler = torch.optim.lr_scheduler.OneCycleLR(\n",
    "    #     optimizer,\n",
    "    #     max_lr=data_config[\"INIT_LR\"],\n",
    "    #     steps_per_epoch=len(train_loader),\n",
    "    #     epochs=hyperparams[\"EPOCHS\"],\n",
    "    #     pct_start=0.05,\n",
    "    # )\n",
    "\n",
    "    criterion = CustomCriterion(\n",
    "        samples_per_cls=get_label_counts(data_config[\"DATA_PATH\"])\n",
    "        if data_config[\"DATASET\"] == \"TACO\"\n",
    "        else None,\n",
    "        device=device,\n",
    "    )\n",
    "    # Amp loss scaler\n",
    "    scaler = (\n",
    "        torch.cuda.amp.GradScaler() if fp16 and device != torch.device(\"cpu\") else None\n",
    "    )\n",
    "    # scaler = torch.cuda.amp.GradScaler() if fp16 and device != torch.device(\"cpu\") else None\n",
    "\n",
    "    trainer = TorchTrainer(\n",
    "        model,\n",
    "        criterion,\n",
    "        optimizer,\n",
    "        scheduler,\n",
    "        device=device,\n",
    "        verbose=1,\n",
    "        model_path=RESULT_MODEL_PATH,\n",
    "        scaler=scaler,\n",
    "    )\n",
    "    trainer.train(train_loader, hyperparams[\"EPOCHS\"], val_dataloader=val_loader)\n",
    "    loss, f1_score, acc_percent = trainer.test(model, test_dataloader=val_loader)\n",
    "    params_nums = count_model_params(model)\n",
    "\n",
    "    model_info(model, verbose=True)\n",
    "    return f1_score, params_nums, mean_time"
   ]
  },
  {
   "cell_type": "code",
   "execution_count": 21,
   "metadata": {},
   "outputs": [],
   "source": [
    "def get_best_trial_with_condition(optuna_study: optuna.study.Study) -> Dict[str, Any]:\n",
    "    \"\"\"Get best trial that satisfies the minimum condition(e.g. accuracy > 0.8).\n",
    "    Args:\n",
    "        study : Optuna study object to get trial.\n",
    "    Returns:\n",
    "        best_trial : Best trial that satisfies condition.\n",
    "    \"\"\"\n",
    "    df = optuna_study.trials_dataframe().rename(\n",
    "        columns={\n",
    "            \"values_0\": \"acc_percent\",\n",
    "            \"values_1\": \"params_nums\",\n",
    "            \"values_2\": \"mean_time\",\n",
    "        }\n",
    "    )\n",
    "    ## minimum condition : accuracy >= threshold\n",
    "    threshold = 0.7\n",
    "    minimum_cond = df.acc_percent >= threshold\n",
    "\n",
    "    if minimum_cond.any():\n",
    "        df_min_cond = df.loc[minimum_cond]\n",
    "        ## get the best trial idx with lowest parameter numbers\n",
    "        best_idx = df_min_cond.loc[\n",
    "            df_min_cond.params_nums == df_min_cond.params_nums.min()\n",
    "        ].acc_percent.idxmax()\n",
    "\n",
    "        best_trial_ = optuna_study.trials[best_idx]\n",
    "        print(\"Best trial which satisfies the condition\")\n",
    "        print(df.loc[best_idx])\n",
    "    else:\n",
    "        print(\"No trials satisfies minimum condition\")\n",
    "        best_trial_ = None\n",
    "\n",
    "    return best_trial_"
   ]
  },
  {
   "cell_type": "code",
   "execution_count": 23,
   "metadata": {},
   "outputs": [],
   "source": [
    "def tune(gpu_id, storage: str = None, fp16: bool = False):\n",
    "    if not torch.cuda.is_available():\n",
    "        device = torch.device(\"cpu\")\n",
    "    elif 0 <= gpu_id < torch.cuda.device_count():\n",
    "        device = torch.device(f\"cuda:{gpu_id}\")\n",
    "    sampler = optuna.samplers.MOTPESampler()\n",
    "    if storage is not None:\n",
    "        rdb_storage = optuna.storages.RDBStorage(url=storage)\n",
    "    else:\n",
    "        rdb_storage = None\n",
    "    study = optuna.create_study(\n",
    "        directions=[\"maximize\", \"minimize\", \"minimize\"],\n",
    "        study_name=\"automl\",\n",
    "        sampler=sampler,\n",
    "        storage=rdb_storage,\n",
    "        load_if_exists=True,\n",
    "    )\n",
    "    study.optimize(lambda trial: objective(trial, device, fp16), n_trials=20)\n",
    "    pruned_trials = [t for t in study.trials if t.state == optuna.trial.TrialState.PRUNED]\n",
    "    complete_trials = [t for t in study.trials if t.state == optuna.trial.TrialState.COMPLETE]\n",
    "\n",
    "    print(\"Study statistics: \")\n",
    "    print(\"  Number of finished trials: \", len(study.trials))\n",
    "    print(\"  Number of pruned trials: \", len(pruned_trials))\n",
    "    print(\"  Number of complete trials: \", len(complete_trials))\n",
    "\n",
    "    print(\"Best trials:\")\n",
    "    best_trials = study.best_trials\n",
    "\n",
    "    ## trials that satisfies Pareto Fronts\n",
    "    for tr in best_trials:\n",
    "        print(f\"  value1:{tr.values[0]}, value2:{tr.values[1]}\")\n",
    "        for key, value in tr.params.items():\n",
    "            print(f\"    {key}:{value}\")\n",
    "\n",
    "    best_trial = get_best_trial_with_condition(study)\n",
    "    print(best_trial)\n",
    "    df = study.trials_dataframe(attrs=(\"number\", \"value\", \"params\", \"state\"))\n",
    "    df.to_csv(\"search_results.csv\", index=False)"
   ]
  },
  {
   "cell_type": "code",
   "execution_count": 24,
   "metadata": {},
   "outputs": [
    {
     "name": "stderr",
     "output_type": "stream",
     "text": [
      "<ipython-input-23-7093b73e0f9f>:6: ExperimentalWarning: MOTPESampler is experimental (supported from v2.4.0). The interface can change in the future.\n",
      "  sampler = optuna.samplers.MOTPESampler()\n",
      "\u001b[32m[I 2021-11-29 05:07:49,773]\u001b[0m A new study created in memory with name: automl\u001b[0m\n"
     ]
    },
    {
     "name": "stdout",
     "output_type": "stream",
     "text": [
      "idx |   n |     params |          module |            arguments |   in_channel |   out_channel\n",
      "----------------------------------------------------------------------------------------------\n",
      "  0 |   1 |        688 | InvertedResidualv3 | [3, 5.4, 48, 0, 1, 2] |            3           24\n",
      "  1 |   1 |        928 |          DWConv | [54, 3, 1, None, 'Hardswish'] |           24           32\n",
      "  2 |   1 |        960 |          DWConv | [93, 3, 1, None, 'Hardswish'] |           32           48\n",
      "  3 |   1 |     13,888 |            Conv | [63, 3, 2, None, 1, 'Hardswish'] |           48           32\n",
      "  4 |   1 |      2,736 |          DWConv | [144, 3, 1, None, 'Hardswish'] |           32           72\n",
      "  5 |   1 |     38,408 | InvertedResidualv3 | [5, 4.5, 32, 0, 1, 2] |           72           16\n",
      "  6 |   1 |      9,344 |            Conv | [125, 3, 2, None, 1, 'ReLU'] |           16           64\n",
      "  7 |   1 |     13,632 | InvertedResidualv3 | [5, 1.5, 88, 0, 0, 2] |           64           48\n",
      "  8 |   1 |      3,200 |            Conv |          [128, 1, 1] |           48           64\n",
      "  9 |   1 |          0 |   GlobalAvgPool |                   [] |           64           64\n",
      " 10 |   1 |        396 |       FixedConv | [6, 1, 1, None, 1, None] |           64            6\n",
      "Model Summary: 66 layers, 84,180 parameters, 84,180 gradients\n",
      "{'INPUT_SIZE': [32, 32], 'backbone': [[3, 'InvertedResidualv3', [3, 5.4, 48, 0, 1, 2]], [2, 'DWConv', [54, 3, 1, None, 'Hardswish']], [5, 'DWConv', [93, 3, 1, None, 'Hardswish']], [5, 'Conv', [63, 3, 2, None, 1, 'Hardswish']], [3, 'DWConv', [144, 3, 1, None, 'Hardswish']], [4, 'InvertedResidualv3', [5, 4.5, 32, 0, 1, 2]], [3, 'Conv', [125, 3, 2, None, 1, 'ReLU']], [1, 'InvertedResidualv3', [5, 1.5, 88, 0, 0, 2]], [1, 'Conv', [128, 1, 1]], [1, 'GlobalAvgPool', []], [1, 'FixedConv', [6, 1, 1, None, 1, None]]], 'depth_multiple': 0.25, 'input_channel': 3, 'width_multiple': 0.5}\n",
      "---------------------------------  ---------------  ---------------  ---------------  ---------------  ---------------  ---------------  ---------------  ---------------  ---------------  ---------------------------------------------  \n",
      "Name                               Self CPU total %  Self CPU total   CPU total %      CPU total        CPU time avg     CUDA total %     CUDA total       CUDA time avg    Number of Calls  Input Shapes                                   \n",
      "---------------------------------  ---------------  ---------------  ---------------  ---------------  ---------------  ---------------  ---------------  ---------------  ---------------  ---------------------------------------------  \n",
      "conv2d                             0.14%            15.701us         4.79%            522.296us        522.296us        1.44%            523.264us        523.264us        1                []                                             \n",
      "convolution                        0.15%            16.513us         4.65%            506.595us        506.595us        1.40%            507.904us        507.904us        1                []                                             \n",
      "_convolution                       0.66%            72.143us         4.50%            490.082us        490.082us        1.35%            490.496us        490.496us        1                []                                             \n",
      "size                               0.07%            7.456us          0.07%            7.456us          7.456us          0.02%            7.168us          7.168us          1                []                                             \n",
      "size                               0.05%            5.813us          0.05%            5.813us          5.813us          0.02%            6.144us          6.144us          1                []                                             \n",
      "size                               0.05%            5.665us          0.05%            5.665us          5.665us          0.01%            5.120us          5.120us          1                []                                             \n",
      "size                               0.06%            6.081us          0.06%            6.081us          6.081us          0.01%            5.120us          5.120us          1                []                                             \n",
      "size                               0.05%            5.578us          0.05%            5.578us          5.578us          0.02%            6.112us          6.112us          1                []                                             \n",
      "size                               0.05%            5.780us          0.05%            5.780us          5.780us          0.01%            5.152us          5.152us          1                []                                             \n",
      "contiguous                         0.06%            6.709us          0.06%            6.709us          6.709us          0.02%            6.144us          6.144us          1                []                                             \n",
      "cudnn_convolution                  2.14%            232.865us        3.44%            374.857us        374.857us        1.03%            373.760us        373.760us        1                []                                             \n",
      "empty                              0.10%            11.079us         0.10%            11.079us         11.079us         0.03%            12.288us         12.288us         1                []                                             \n",
      "contiguous                         0.06%            6.415us          0.06%            6.415us          6.415us          0.02%            7.168us          7.168us          1                []                                             \n",
      "resize_                            0.07%            7.118us          0.07%            7.118us          7.118us          0.02%            6.144us          6.144us          1                []                                             \n",
      "contiguous                         0.06%            6.131us          0.06%            6.131us          6.131us          0.02%            6.144us          6.144us          1                []                                             \n",
      "resize_                            0.06%            6.231us          0.06%            6.231us          6.231us          0.02%            6.144us          6.144us          1                []                                             \n",
      "size                               0.05%            5.707us          0.05%            5.707us          5.707us          0.01%            5.120us          5.120us          1                []                                             \n",
      "stride                             0.05%            5.670us          0.05%            5.670us          5.670us          0.01%            5.120us          5.120us          1                []                                             \n",
      "size                               0.05%            5.672us          0.05%            5.672us          5.672us          0.01%            5.120us          5.120us          1                []                                             \n",
      "size                               0.06%            6.027us          0.06%            6.027us          6.027us          0.02%            7.168us          7.168us          1                []                                             \n",
      "stride                             0.06%            6.147us          0.06%            6.147us          6.147us          0.01%            5.120us          5.120us          1                []                                             \n",
      "size                               0.06%            6.136us          0.06%            6.136us          6.136us          0.02%            6.144us          6.144us          1                []                                             \n",
      "size                               0.06%            6.420us          0.06%            6.420us          6.420us          0.02%            6.144us          6.144us          1                []                                             \n",
      "stride                             0.06%            6.086us          0.06%            6.086us          6.086us          0.02%            6.144us          6.144us          1                []                                             \n",
      "size                               0.06%            6.170us          0.06%            6.170us          6.170us          0.02%            7.168us          7.168us          1                []                                             \n",
      "size                               0.06%            6.005us          0.06%            6.005us          6.005us          0.01%            5.120us          5.120us          1                []                                             \n",
      "stride                             0.06%            6.298us          0.06%            6.298us          6.298us          0.01%            5.088us          5.088us          1                []                                             \n",
      "size                               0.06%            6.325us          0.06%            6.325us          6.325us          0.02%            7.168us          7.168us          1                []                                             \n",
      "size                               0.05%            5.543us          0.05%            5.543us          5.543us          0.01%            5.120us          5.120us          1                []                                             \n",
      "size                               0.06%            6.008us          0.06%            6.008us          6.008us          0.02%            7.168us          7.168us          1                []                                             \n",
      "size                               0.05%            5.859us          0.05%            5.859us          5.859us          0.01%            5.120us          5.120us          1                []                                             \n",
      "size                               0.06%            6.267us          0.06%            6.267us          6.267us          0.02%            6.144us          6.144us          1                []                                             \n",
      "empty                              0.08%            8.678us          0.08%            8.678us          8.678us          0.03%            9.216us          9.216us          1                []                                             \n",
      "batch_norm                         0.14%            15.359us         2.25%            245.756us        245.756us        0.68%            245.760us        245.760us        1                []                                             \n",
      "_batch_norm_impl_index             0.57%            62.411us         2.11%            230.397us        230.397us        0.64%            230.400us        230.400us        1                []                                             \n",
      "size                               0.06%            6.253us          0.06%            6.253us          6.253us          0.01%            5.120us          5.120us          1                []                                             \n",
      "size                               0.05%            5.694us          0.05%            5.694us          5.694us          0.02%            6.112us          6.112us          1                []                                             \n",
      "contiguous                         0.06%            6.737us          0.06%            6.737us          6.737us          0.02%            6.144us          6.144us          1                []                                             \n",
      "contiguous                         0.06%            6.242us          0.06%            6.242us          6.242us          0.02%            6.144us          6.144us          1                []                                             \n",
      "contiguous                         0.06%            6.403us          0.06%            6.403us          6.403us          0.02%            6.144us          6.144us          1                []                                             \n",
      "contiguous                         0.06%            6.821us          0.06%            6.821us          6.821us          0.02%            6.176us          6.176us          1                []                                             \n",
      "contiguous                         0.06%            6.128us          0.06%            6.128us          6.128us          0.02%            7.168us          7.168us          1                []                                             \n",
      "cudnn_batch_norm                   0.69%            75.481us         1.14%            123.708us        123.708us        0.34%            124.928us        124.928us        1                []                                             \n",
      "size                               0.05%            5.309us          0.05%            5.309us          5.309us          0.01%            5.120us          5.120us          1                []                                             \n",
      "empty_like                         0.14%            15.403us         0.23%            25.375us         25.375us         0.07%            24.576us         24.576us         1                []                                             \n",
      "empty                              0.09%            9.972us          0.09%            9.972us          9.972us          0.03%            10.240us         10.240us         1                []                                             \n",
      "view                               0.09%            9.679us          0.09%            9.679us          9.679us          0.03%            10.272us         10.272us         1                []                                             \n",
      "empty                              0.07%            7.864us          0.07%            7.864us          7.864us          0.02%            7.168us          7.168us          1                []                                             \n",
      "is_complex                         0.06%            6.872us          0.06%            6.872us          6.872us          0.02%            6.144us          6.144us          1                []                                             \n",
      "add                                0.50%            54.650us         0.59%            64.110us         64.110us         0.18%            64.512us         64.512us         1                []                                             \n",
      "empty                              0.09%            9.460us          0.09%            9.460us          9.460us          0.03%            10.240us         10.240us         1                []                                             \n",
      "hardtanh                           0.29%            31.682us         1.09%            119.325us        119.325us        0.33%            119.808us        119.808us        1                []                                             \n",
      "clamp                              0.22%            23.538us         0.80%            87.643us         87.643us         0.24%            88.064us         88.064us         1                []                                             \n",
      "empty                              0.07%            7.634us          0.07%            7.634us          7.634us          0.02%            8.192us          8.192us          1                []                                             \n",
      "clamp_out                          0.35%            37.963us         0.52%            56.471us         56.471us         0.16%            56.320us         56.320us         1                []                                             \n",
      "is_complex                         0.06%            6.308us          0.06%            6.308us          6.308us          0.02%            6.144us          6.144us          1                []                                             \n",
      "resize_                            0.11%            12.200us         0.11%            12.200us         12.200us         0.03%            12.288us         12.288us         1                []                                             \n",
      "is_complex                         0.06%            6.290us          0.06%            6.290us          6.290us          0.02%            6.144us          6.144us          1                []                                             \n",
      "div_                               0.35%            37.782us         0.35%            37.782us         37.782us         0.10%            37.888us         37.888us         1                []                                             \n",
      "mul                                0.38%            41.779us         0.47%            51.411us         51.411us         0.14%            51.200us         51.200us         1                []                                             \n",
      "empty                              0.09%            9.632us          0.09%            9.632us          9.632us          0.03%            9.216us          9.216us          1                []                                             \n",
      "conv2d                             0.14%            15.125us         2.47%            269.635us        269.635us        0.74%            269.344us        269.344us        1                []                                             \n",
      "convolution                        0.16%            17.061us         2.34%            254.510us        254.510us        0.70%            254.976us        254.976us        1                []                                             \n",
      "_convolution                       0.94%            102.080us        2.18%            237.449us        237.449us        0.66%            238.592us        238.592us        1                []                                             \n",
      "size                               0.06%            6.274us          0.06%            6.274us          6.274us          0.02%            7.168us          7.168us          1                []                                             \n",
      "size                               0.06%            6.040us          0.06%            6.040us          6.040us          0.02%            7.168us          7.168us          1                []                                             \n",
      "size                               0.06%            6.733us          0.06%            6.733us          6.733us          0.02%            7.168us          7.168us          1                []                                             \n",
      "size                               0.06%            6.876us          0.06%            6.876us          6.876us          0.02%            8.192us          8.192us          1                []                                             \n",
      "size                               0.06%            6.765us          0.06%            6.765us          6.765us          0.02%            7.168us          7.168us          1                []                                             \n",
      "size                               0.05%            5.647us          0.05%            5.647us          5.647us          0.02%            6.144us          6.144us          1                []                                             \n",
      "size                               0.06%            7.068us          0.06%            7.068us          7.068us          0.02%            7.168us          7.168us          1                []                                             \n",
      "size                               0.06%            6.575us          0.06%            6.575us          6.575us          0.02%            6.144us          6.144us          1                []                                             \n",
      "size                               0.06%            6.041us          0.06%            6.041us          6.041us          0.01%            5.120us          5.120us          1                []                                             \n",
      "contiguous                         0.07%            7.633us          0.07%            7.633us          7.633us          0.02%            8.192us          8.192us          1                []                                             \n",
      "thnn_conv_depthwise2d              0.16%            17.771us         0.64%            69.717us         69.717us         0.19%            69.632us         69.632us         1                []                                             \n",
      "thnn_conv_depthwise2d_forward      0.48%            51.946us         0.48%            51.946us         51.946us         0.14%            52.224us         52.224us         1                []                                             \n",
      "batch_norm                         0.19%            21.117us         2.75%            299.921us        299.921us        0.83%            300.032us        300.032us        1                []                                             \n",
      "_batch_norm_impl_index             0.71%            76.921us         2.56%            278.804us        278.804us        0.77%            280.576us        280.576us        1                []                                             \n",
      "size                               0.06%            6.362us          0.06%            6.362us          6.362us          0.02%            7.168us          7.168us          1                []                                             \n",
      "size                               0.06%            6.628us          0.06%            6.628us          6.628us          0.02%            6.144us          6.144us          1                []                                             \n",
      "contiguous                         0.07%            7.089us          0.07%            7.089us          7.089us          0.02%            7.168us          7.168us          1                []                                             \n",
      "contiguous                         0.06%            6.923us          0.06%            6.923us          6.923us          0.02%            7.168us          7.168us          1                []                                             \n",
      "contiguous                         0.07%            7.326us          0.07%            7.326us          7.326us          0.02%            7.168us          7.168us          1                []                                             \n",
      "contiguous                         0.07%            7.635us          0.07%            7.635us          7.635us          0.02%            7.168us          7.168us          1                []                                             \n",
      "contiguous                         0.06%            6.826us          0.06%            6.826us          6.826us          0.02%            7.168us          7.168us          1                []                                             \n",
      "cudnn_batch_norm                   0.87%            94.882us         1.40%            153.094us        153.094us        0.43%            154.624us        154.624us        1                []                                             \n",
      "size                               0.07%            7.616us          0.07%            7.616us          7.616us          0.02%            7.168us          7.168us          1                []                                             \n",
      "empty_like                         0.16%            17.147us         0.28%            30.625us         30.625us         0.08%            30.720us         30.720us         1                []                                             \n",
      "empty                              0.12%            13.478us         0.12%            13.478us         13.478us         0.04%            13.312us         13.312us         1                []                                             \n",
      "view                               0.10%            10.972us         0.10%            10.972us         10.972us         0.03%            11.264us         11.264us         1                []                                             \n",
      "empty                              0.08%            8.999us          0.08%            8.999us          8.999us          0.03%            9.248us          9.248us          1                []                                             \n",
      "is_complex                         0.08%            9.192us          0.08%            9.192us          9.192us          0.03%            9.216us          9.216us          1                []                                             \n",
      "add                                0.54%            59.364us         0.68%            73.839us         73.839us         0.20%            72.704us         72.704us         1                []                                             \n",
      "empty                              0.13%            14.475us         0.13%            14.475us         14.475us         0.04%            14.336us         14.336us         1                []                                             \n",
      "hardtanh                           0.27%            29.215us         1.10%            119.576us        119.576us        0.33%            119.808us        119.808us        1                []                                             \n",
      "clamp                              0.22%            23.926us         0.83%            90.361us         90.361us         0.25%            90.112us         90.112us         1                []                                             \n",
      "empty                              0.07%            8.053us          0.07%            8.053us          8.053us          0.02%            8.192us          8.192us          1                []                                             \n",
      "clamp_out                          0.37%            40.803us         0.54%            58.382us         58.382us         0.16%            58.400us         58.400us         1                []                                             \n",
      "is_complex                         0.06%            6.914us          0.06%            6.914us          6.914us          0.02%            6.144us          6.144us          1                []                                             \n",
      "resize_                            0.10%            10.665us         0.10%            10.665us         10.665us         0.03%            11.264us         11.264us         1                []                                             \n",
      "---------------------------------  ---------------  ---------------  ---------------  ---------------  ---------------  ---------------  ---------------  ---------------  ---------------  ---------------------------------------------  \n",
      "Self CPU time total: 10.899ms\n",
      "CUDA time total: 36.237ms\n",
      "\n",
      "measured time(ms) 3.566594155629476\n",
      "layer                                     name  gradient   parameters                shape         mu      sigma\n",
      "    0                  model.0.0.conv.0.weight      True           48        [16, 3, 1, 1]    -0.0457      0.302\n",
      "    1                  model.0.0.conv.1.weight      True           16                 [16]          1          0\n",
      "    2                    model.0.0.conv.1.bias      True           16                 [16]          0          0\n",
      "    3                  model.0.0.conv.3.weight      True          144        [16, 1, 3, 3]    -0.0188      0.195\n",
      "    4                  model.0.0.conv.4.weight      True           16                 [16]          1          0\n",
      "    5                    model.0.0.conv.4.bias      True           16                 [16]          0          0\n",
      "    6                  model.0.0.conv.7.weight      True          384       [24, 16, 1, 1]     0.0122      0.146\n",
      "    7                  model.0.0.conv.8.weight      True           24                 [24]          1          0\n",
      "    8                    model.0.0.conv.8.bias      True           24                 [24]          0          0\n",
      "    9                      model.1.conv.weight      True          864        [32, 3, 3, 3]    0.00158       0.11\n",
      "   10                        model.1.bn.weight      True           32                 [32]          1          0\n",
      "   11                          model.1.bn.bias      True           32                 [32]          0          0\n",
      "   12                      model.2.conv.weight      True          864        [48, 2, 3, 3]   -0.00393      0.136\n",
      "   13                        model.2.bn.weight      True           48                 [48]          1          0\n",
      "   14                          model.2.bn.bias      True           48                 [48]          0          0\n",
      "   15                      model.3.conv.weight      True        13824       [32, 48, 3, 3]  -0.000304     0.0276\n",
      "   16                        model.3.bn.weight      True           32                 [32]          1          0\n",
      "   17                          model.3.bn.bias      True           32                 [32]          0          0\n",
      "   18                      model.4.conv.weight      True         2592        [72, 4, 3, 3]   -0.00449     0.0958\n",
      "   19                        model.4.bn.weight      True           72                 [72]          1          0\n",
      "   20                          model.4.bn.bias      True           72                 [72]          0          0\n",
      "   21                  model.5.0.conv.0.weight      True        23616      [328, 72, 1, 1]  -0.000603     0.0685\n",
      "   22                  model.5.0.conv.1.weight      True          328                [328]          1          0\n",
      "   23                    model.5.0.conv.1.bias      True          328                [328]          0          0\n",
      "   24                  model.5.0.conv.3.weight      True         8200       [328, 1, 5, 5]    0.00102      0.116\n",
      "   25                  model.5.0.conv.4.weight      True          328                [328]          1          0\n",
      "   26                    model.5.0.conv.4.bias      True          328                [328]          0          0\n",
      "   27                  model.5.0.conv.7.weight      True         5248      [16, 328, 1, 1]   0.000503     0.0316\n",
      "   28                  model.5.0.conv.8.weight      True           16                 [16]          1          0\n",
      "   29                    model.5.0.conv.8.bias      True           16                 [16]          0          0\n",
      "   30                      model.6.conv.weight      True         9216       [64, 16, 3, 3]    0.00113      0.048\n",
      "   31                        model.6.bn.weight      True           64                 [64]          1          0\n",
      "   32                          model.6.bn.bias      True           64                 [64]          0          0\n",
      "   33                  model.7.0.conv.0.weight      True         6144       [96, 64, 1, 1]   -0.00106     0.0723\n",
      "   34                  model.7.0.conv.1.weight      True           96                 [96]          1          0\n",
      "   35                    model.7.0.conv.1.bias      True           96                 [96]          0          0\n",
      "   36                  model.7.0.conv.3.weight      True         2400        [96, 1, 5, 5]   -0.00144      0.115\n",
      "   37                  model.7.0.conv.4.weight      True           96                 [96]          1          0\n",
      "   38                    model.7.0.conv.4.bias      True           96                 [96]          0          0\n",
      "   39                  model.7.0.conv.7.weight      True         4608       [48, 96, 1, 1]  -0.000453     0.0591\n",
      "   40                  model.7.0.conv.8.weight      True           48                 [48]          1          0\n",
      "   41                    model.7.0.conv.8.bias      True           48                 [48]          0          0\n",
      "   42                      model.8.conv.weight      True         3072       [64, 48, 1, 1]    0.00239     0.0835\n",
      "   43                        model.8.bn.weight      True           64                 [64]          1          0\n",
      "   44                          model.8.bn.bias      True           64                 [64]          0          0\n",
      "   45                     model.10.conv.weight      True          384        [6, 64, 1, 1]   -0.00277     0.0713\n",
      "   46                       model.10.bn.weight      True            6                  [6]          1          0\n",
      "   47                         model.10.bn.bias      True            6                  [6]          0          0\n",
      "Model Summary: 67 layers, 84,180 parameters, 84,180 gradients\n"
     ]
    },
    {
     "name": "stderr",
     "output_type": "stream",
     "text": [
      "Train: [001] Loss: 1.975, Acc: 21.14% F1(macro): 0.18: 100%|██████████| 36/36 [00:18<00:00,  1.95it/s]\n",
      " Val:       Loss: 1.935, Acc: 6.97% F1(macro): 0.04: 100%|██████████| 41/41 [00:29<00:00,  1.39it/s]\n"
     ]
    },
    {
     "name": "stdout",
     "output_type": "stream",
     "text": [
      "Model saved. Current best test f1: 0.044\n"
     ]
    },
    {
     "name": "stderr",
     "output_type": "stream",
     "text": [
      "Train: [002] Loss: 1.718, Acc: 33.22% F1(macro): 0.22: 100%|██████████| 36/36 [00:17<00:00,  2.05it/s]\n",
      " Val:       Loss: 1.807, Acc: 37.56% F1(macro): 0.21: 100%|██████████| 41/41 [00:29<00:00,  1.40it/s]\n"
     ]
    },
    {
     "name": "stdout",
     "output_type": "stream",
     "text": [
      "Model saved. Current best test f1: 0.213\n"
     ]
    },
    {
     "name": "stderr",
     "output_type": "stream",
     "text": [
      "Train: [003] Loss: 1.644, Acc: 35.89% F1(macro): 0.22: 100%|██████████| 36/36 [00:18<00:00,  1.99it/s]\n",
      " Val:       Loss: 1.578, Acc: 37.61% F1(macro): 0.25: 100%|██████████| 41/41 [00:34<00:00,  1.20it/s]\n"
     ]
    },
    {
     "name": "stdout",
     "output_type": "stream",
     "text": [
      "Model saved. Current best test f1: 0.252\n"
     ]
    },
    {
     "name": "stderr",
     "output_type": "stream",
     "text": [
      "Train: [004] Loss: 1.580, Acc: 37.87% F1(macro): 0.21: 100%|██████████| 36/36 [00:17<00:00,  2.04it/s]\n",
      " Val:       Loss: 1.644, Acc: 35.50% F1(macro): 0.20: 100%|██████████| 41/41 [00:26<00:00,  1.55it/s]\n",
      "Train: [005] Loss: 1.523, Acc: 38.78% F1(macro): 0.21: 100%|██████████| 36/36 [00:16<00:00,  2.24it/s]\n",
      " Val:       Loss: 1.618, Acc: 38.27% F1(macro): 0.22: 100%|██████████| 41/41 [00:32<00:00,  1.25it/s]\n",
      "Train: [006] Loss: 1.502, Acc: 39.74% F1(macro): 0.20: 100%|██████████| 36/36 [00:17<00:00,  2.12it/s]\n",
      " Val:       Loss: 1.487, Acc: 41.22% F1(macro): 0.26: 100%|██████████| 41/41 [00:30<00:00,  1.35it/s]\n"
     ]
    },
    {
     "name": "stdout",
     "output_type": "stream",
     "text": [
      "Model saved. Current best test f1: 0.255\n"
     ]
    },
    {
     "name": "stderr",
     "output_type": "stream",
     "text": [
      "Train: [007] Loss: 1.486, Acc: 39.80% F1(macro): 0.21: 100%|██████████| 36/36 [00:17<00:00,  2.09it/s]\n",
      " Val:       Loss: 1.464, Acc: 41.30% F1(macro): 0.23: 100%|██████████| 41/41 [00:29<00:00,  1.40it/s]\n",
      "Train: [008] Loss: 1.465, Acc: 41.80% F1(macro): 0.21: 100%|██████████| 36/36 [00:18<00:00,  1.97it/s]\n",
      " Val:       Loss: 1.466, Acc: 42.41% F1(macro): 0.24: 100%|██████████| 41/41 [00:30<00:00,  1.34it/s]\n",
      "Train: [009] Loss: 1.459, Acc: 41.97% F1(macro): 0.22: 100%|██████████| 36/36 [00:16<00:00,  2.12it/s]\n",
      " Val:       Loss: 1.406, Acc: 44.48% F1(macro): 0.25: 100%|██████████| 41/41 [00:28<00:00,  1.42it/s]\n",
      "Train: [010] Loss: 1.432, Acc: 42.93% F1(macro): 0.25: 100%|██████████| 36/36 [00:17<00:00,  2.10it/s]\n",
      " Val:       Loss: 1.402, Acc: 45.65% F1(macro): 0.32: 100%|██████████| 41/41 [00:29<00:00,  1.39it/s]\n"
     ]
    },
    {
     "name": "stdout",
     "output_type": "stream",
     "text": [
      "Model saved. Current best test f1: 0.322\n"
     ]
    },
    {
     "name": "stderr",
     "output_type": "stream",
     "text": [
      "Train: [011] Loss: 1.431, Acc: 42.75% F1(macro): 0.24: 100%|██████████| 36/36 [00:16<00:00,  2.24it/s]\n",
      " Val:       Loss: 1.353, Acc: 47.80% F1(macro): 0.30: 100%|██████████| 41/41 [00:30<00:00,  1.36it/s]\n",
      "Train: [012] Loss: 1.428, Acc: 43.75% F1(macro): 0.24: 100%|██████████| 36/36 [00:16<00:00,  2.21it/s]\n",
      " Val:       Loss: 1.415, Acc: 45.54% F1(macro): 0.25: 100%|██████████| 41/41 [00:29<00:00,  1.39it/s]\n",
      "Train: [013] Loss: 1.412, Acc: 44.42% F1(macro): 0.24: 100%|██████████| 36/36 [00:19<00:00,  1.87it/s]\n",
      " Val:       Loss: 1.343, Acc: 47.80% F1(macro): 0.29: 100%|██████████| 41/41 [00:34<00:00,  1.18it/s]\n",
      "Train: [014] Loss: 1.388, Acc: 45.29% F1(macro): 0.27: 100%|██████████| 36/36 [00:18<00:00,  1.97it/s]\n",
      " Val:       Loss: 1.431, Acc: 46.80% F1(macro): 0.30: 100%|██████████| 41/41 [00:28<00:00,  1.43it/s]\n",
      "Train: [015] Loss: 1.388, Acc: 46.07% F1(macro): 0.26: 100%|██████████| 36/36 [00:16<00:00,  2.24it/s]\n",
      " Val:       Loss: 1.346, Acc: 47.63% F1(macro): 0.32: 100%|██████████| 41/41 [00:35<00:00,  1.15it/s]\n"
     ]
    },
    {
     "name": "stdout",
     "output_type": "stream",
     "text": [
      "Model saved. Current best test f1: 0.322\n"
     ]
    },
    {
     "name": "stderr",
     "output_type": "stream",
     "text": [
      "Train: [016] Loss: 1.377, Acc: 46.31% F1(macro): 0.27: 100%|██████████| 36/36 [00:18<00:00,  1.92it/s]\n",
      " Val:       Loss: 1.330, Acc: 47.71% F1(macro): 0.30: 100%|██████████| 41/41 [00:28<00:00,  1.46it/s]\n",
      "Train: [017] Loss: 1.352, Acc: 46.74% F1(macro): 0.28: 100%|██████████| 36/36 [00:18<00:00,  1.95it/s]\n",
      " Val:       Loss: 1.439, Acc: 43.50% F1(macro): 0.31: 100%|██████████| 41/41 [00:29<00:00,  1.40it/s]\n",
      "Train: [018] Loss: 1.352, Acc: 47.66% F1(macro): 0.29: 100%|██████████| 36/36 [00:19<00:00,  1.89it/s]\n",
      " Val:       Loss: 1.344, Acc: 49.36% F1(macro): 0.37: 100%|██████████| 41/41 [00:29<00:00,  1.37it/s]\n"
     ]
    },
    {
     "name": "stdout",
     "output_type": "stream",
     "text": [
      "Model saved. Current best test f1: 0.370\n"
     ]
    },
    {
     "name": "stderr",
     "output_type": "stream",
     "text": [
      "Train: [019] Loss: 1.340, Acc: 48.76% F1(macro): 0.33: 100%|██████████| 36/36 [00:18<00:00,  1.94it/s]\n",
      " Val:       Loss: 1.331, Acc: 49.91% F1(macro): 0.35: 100%|██████████| 41/41 [00:35<00:00,  1.16it/s]\n",
      "Train: [020] Loss: 1.314, Acc: 49.65% F1(macro): 0.31: 100%|██████████| 36/36 [00:16<00:00,  2.18it/s]\n",
      " Val:       Loss: 1.286, Acc: 51.99% F1(macro): 0.30: 100%|██████████| 41/41 [00:32<00:00,  1.24it/s]\n",
      "Train: [021] Loss: 1.330, Acc: 48.85% F1(macro): 0.31: 100%|██████████| 36/36 [00:18<00:00,  1.93it/s]\n",
      " Val:       Loss: 1.276, Acc: 51.49% F1(macro): 0.40: 100%|██████████| 41/41 [00:28<00:00,  1.43it/s]\n"
     ]
    },
    {
     "name": "stdout",
     "output_type": "stream",
     "text": [
      "Model saved. Current best test f1: 0.403\n"
     ]
    },
    {
     "name": "stderr",
     "output_type": "stream",
     "text": [
      "Train: [022] Loss: 1.297, Acc: 50.59% F1(macro): 0.33: 100%|██████████| 36/36 [00:14<00:00,  2.48it/s]\n",
      " Val:       Loss: 1.412, Acc: 47.94% F1(macro): 0.32: 100%|██████████| 41/41 [00:25<00:00,  1.59it/s]\n",
      "Train: [023] Loss: 1.300, Acc: 50.67% F1(macro): 0.34: 100%|██████████| 36/36 [00:19<00:00,  1.88it/s]\n",
      " Val:       Loss: 1.252, Acc: 53.25% F1(macro): 0.33: 100%|██████████| 41/41 [00:30<00:00,  1.36it/s]\n",
      "Train: [024] Loss: 1.283, Acc: 51.58% F1(macro): 0.34: 100%|██████████| 36/36 [00:17<00:00,  2.01it/s]\n",
      " Val:       Loss: 1.299, Acc: 51.51% F1(macro): 0.38: 100%|██████████| 41/41 [00:30<00:00,  1.32it/s]\n",
      "Train: [025] Loss: 1.258, Acc: 52.56% F1(macro): 0.37: 100%|██████████| 36/36 [00:17<00:00,  2.04it/s]\n",
      " Val:       Loss: 1.281, Acc: 52.01% F1(macro): 0.37: 100%|██████████| 41/41 [00:29<00:00,  1.38it/s]\n",
      "Train: [026] Loss: 1.260, Acc: 51.67% F1(macro): 0.36: 100%|██████████| 36/36 [00:16<00:00,  2.16it/s]\n",
      " Val:       Loss: 1.224, Acc: 54.40% F1(macro): 0.41: 100%|██████████| 41/41 [00:35<00:00,  1.14it/s]\n"
     ]
    },
    {
     "name": "stdout",
     "output_type": "stream",
     "text": [
      "Model saved. Current best test f1: 0.409\n"
     ]
    },
    {
     "name": "stderr",
     "output_type": "stream",
     "text": [
      "Train: [027] Loss: 1.257, Acc: 51.65% F1(macro): 0.35: 100%|██████████| 36/36 [00:17<00:00,  2.08it/s]\n",
      " Val:       Loss: 1.224, Acc: 51.78% F1(macro): 0.40: 100%|██████████| 41/41 [00:28<00:00,  1.46it/s]\n",
      "Train: [028] Loss: 1.237, Acc: 53.08% F1(macro): 0.38: 100%|██████████| 36/36 [00:16<00:00,  2.13it/s]\n",
      " Val:       Loss: 1.182, Acc: 55.38% F1(macro): 0.44: 100%|██████████| 41/41 [00:34<00:00,  1.20it/s]\n"
     ]
    },
    {
     "name": "stdout",
     "output_type": "stream",
     "text": [
      "Model saved. Current best test f1: 0.439\n"
     ]
    },
    {
     "name": "stderr",
     "output_type": "stream",
     "text": [
      "Train: [029] Loss: 1.234, Acc: 53.58% F1(macro): 0.39: 100%|██████████| 36/36 [00:19<00:00,  1.82it/s]\n",
      " Val:       Loss: 1.216, Acc: 53.75% F1(macro): 0.40: 100%|██████████| 41/41 [00:29<00:00,  1.37it/s]\n",
      "Train: [030] Loss: 1.230, Acc: 53.75% F1(macro): 0.39: 100%|██████████| 36/36 [00:15<00:00,  2.33it/s]\n",
      " Val:       Loss: 1.382, Acc: 47.98% F1(macro): 0.40: 100%|██████████| 41/41 [00:29<00:00,  1.41it/s]\n",
      "Train: [031] Loss: 1.216, Acc: 54.10% F1(macro): 0.40: 100%|██████████| 36/36 [00:17<00:00,  2.11it/s]\n",
      " Val:       Loss: 1.204, Acc: 54.83% F1(macro): 0.42: 100%|██████████| 41/41 [00:30<00:00,  1.35it/s]\n",
      "Train: [032] Loss: 1.204, Acc: 54.62% F1(macro): 0.40: 100%|██████████| 36/36 [00:18<00:00,  1.91it/s]\n",
      " Val:       Loss: 1.179, Acc: 55.44% F1(macro): 0.44: 100%|██████████| 41/41 [00:25<00:00,  1.60it/s]\n",
      "Train: [033] Loss: 1.196, Acc: 54.80% F1(macro): 0.41: 100%|██████████| 36/36 [00:15<00:00,  2.28it/s]\n",
      " Val:       Loss: 1.172, Acc: 56.94% F1(macro): 0.45: 100%|██████████| 41/41 [00:30<00:00,  1.34it/s]\n"
     ]
    },
    {
     "name": "stdout",
     "output_type": "stream",
     "text": [
      "Model saved. Current best test f1: 0.448\n"
     ]
    },
    {
     "name": "stderr",
     "output_type": "stream",
     "text": [
      "Train: [034] Loss: 1.182, Acc: 55.75% F1(macro): 0.41: 100%|██████████| 36/36 [00:18<00:00,  1.90it/s]\n",
      " Val:       Loss: 1.176, Acc: 56.55% F1(macro): 0.47: 100%|██████████| 41/41 [00:32<00:00,  1.27it/s]\n"
     ]
    },
    {
     "name": "stdout",
     "output_type": "stream",
     "text": [
      "Model saved. Current best test f1: 0.467\n"
     ]
    },
    {
     "name": "stderr",
     "output_type": "stream",
     "text": [
      "Train: [035] Loss: 1.172, Acc: 56.21% F1(macro): 0.43: 100%|██████████| 36/36 [00:17<00:00,  2.08it/s]\n",
      " Val:       Loss: 1.150, Acc: 56.15% F1(macro): 0.43: 100%|██████████| 41/41 [00:29<00:00,  1.41it/s]\n",
      "Train: [036] Loss: 1.181, Acc: 56.68% F1(macro): 0.44: 100%|██████████| 36/36 [00:20<00:00,  1.75it/s]\n",
      " Val:       Loss: 1.186, Acc: 54.96% F1(macro): 0.45: 100%|██████████| 41/41 [00:37<00:00,  1.10it/s]\n",
      "Train: [037] Loss: 1.165, Acc: 56.92% F1(macro): 0.44: 100%|██████████| 36/36 [00:15<00:00,  2.29it/s]\n",
      " Val:       Loss: 1.155, Acc: 55.86% F1(macro): 0.47: 100%|██████████| 41/41 [00:26<00:00,  1.56it/s]\n"
     ]
    },
    {
     "name": "stdout",
     "output_type": "stream",
     "text": [
      "Model saved. Current best test f1: 0.468\n"
     ]
    },
    {
     "name": "stderr",
     "output_type": "stream",
     "text": [
      "Train: [038] Loss: 1.134, Acc: 58.16% F1(macro): 0.46: 100%|██████████| 36/36 [00:16<00:00,  2.14it/s]\n",
      " Val:       Loss: 1.155, Acc: 57.47% F1(macro): 0.46: 100%|██████████| 41/41 [00:31<00:00,  1.31it/s]\n",
      "Train: [039] Loss: 1.151, Acc: 56.64% F1(macro): 0.45: 100%|██████████| 36/36 [00:17<00:00,  2.02it/s]\n",
      " Val:       Loss: 1.157, Acc: 57.01% F1(macro): 0.45: 100%|██████████| 41/41 [00:28<00:00,  1.46it/s]\n",
      "Train: [040] Loss: 1.144, Acc: 56.90% F1(macro): 0.44: 100%|██████████| 36/36 [00:18<00:00,  1.96it/s]\n",
      " Val:       Loss: 1.134, Acc: 58.05% F1(macro): 0.47: 100%|██████████| 41/41 [00:28<00:00,  1.44it/s]\n"
     ]
    },
    {
     "name": "stdout",
     "output_type": "stream",
     "text": [
      "Model saved. Current best test f1: 0.474\n"
     ]
    },
    {
     "name": "stderr",
     "output_type": "stream",
     "text": [
      "Train: [041] Loss: 1.121, Acc: 58.38% F1(macro): 0.47: 100%|██████████| 36/36 [00:19<00:00,  1.83it/s]\n",
      " Val:       Loss: 1.125, Acc: 57.19% F1(macro): 0.46: 100%|██████████| 41/41 [00:30<00:00,  1.36it/s]\n",
      "Train: [042] Loss: 1.119, Acc: 57.99% F1(macro): 0.47: 100%|██████████| 36/36 [00:18<00:00,  1.94it/s]\n",
      " Val:       Loss: 1.115, Acc: 57.86% F1(macro): 0.50: 100%|██████████| 41/41 [00:28<00:00,  1.45it/s]\n"
     ]
    },
    {
     "name": "stdout",
     "output_type": "stream",
     "text": [
      "Model saved. Current best test f1: 0.502\n"
     ]
    },
    {
     "name": "stderr",
     "output_type": "stream",
     "text": [
      "Train: [043] Loss: 1.102, Acc: 58.75% F1(macro): 0.47: 100%|██████████| 36/36 [00:16<00:00,  2.22it/s]\n",
      " Val:       Loss: 1.125, Acc: 57.65% F1(macro): 0.45: 100%|██████████| 41/41 [00:27<00:00,  1.49it/s]\n",
      "Train: [044] Loss: 1.104, Acc: 58.44% F1(macro): 0.48: 100%|██████████| 36/36 [00:18<00:00,  2.00it/s]\n",
      " Val:       Loss: 1.126, Acc: 57.13% F1(macro): 0.48: 100%|██████████| 41/41 [00:32<00:00,  1.27it/s]\n",
      "Train: [045] Loss: 1.090, Acc: 59.87% F1(macro): 0.48: 100%|██████████| 36/36 [00:18<00:00,  1.97it/s]\n",
      " Val:       Loss: 1.111, Acc: 58.61% F1(macro): 0.48: 100%|██████████| 41/41 [00:32<00:00,  1.26it/s]\n",
      "Train: [046] Loss: 1.070, Acc: 59.98% F1(macro): 0.49: 100%|██████████| 36/36 [00:20<00:00,  1.79it/s]\n",
      " Val:       Loss: 1.087, Acc: 59.34% F1(macro): 0.51: 100%|██████████| 41/41 [00:29<00:00,  1.40it/s]\n"
     ]
    },
    {
     "name": "stdout",
     "output_type": "stream",
     "text": [
      "Model saved. Current best test f1: 0.511\n"
     ]
    },
    {
     "name": "stderr",
     "output_type": "stream",
     "text": [
      "Train: [047] Loss: 1.064, Acc: 59.79% F1(macro): 0.48: 100%|██████████| 36/36 [00:18<00:00,  1.92it/s]\n",
      " Val:       Loss: 1.086, Acc: 59.74% F1(macro): 0.51: 100%|██████████| 41/41 [00:28<00:00,  1.42it/s]\n",
      "Train: [048] Loss: 1.061, Acc: 60.96% F1(macro): 0.51: 100%|██████████| 36/36 [00:17<00:00,  2.02it/s]\n",
      " Val:       Loss: 1.080, Acc: 59.51% F1(macro): 0.50: 100%|██████████| 41/41 [00:36<00:00,  1.11it/s]\n",
      "Train: [049] Loss: 1.050, Acc: 61.33% F1(macro): 0.50: 100%|██████████| 36/36 [00:17<00:00,  2.02it/s]\n",
      " Val:       Loss: 1.076, Acc: 59.62% F1(macro): 0.51: 100%|██████████| 41/41 [00:32<00:00,  1.28it/s]\n",
      "Train: [050] Loss: 1.034, Acc: 61.55% F1(macro): 0.52: 100%|██████████| 36/36 [00:17<00:00,  2.04it/s]\n",
      " Val:       Loss: 1.075, Acc: 60.08% F1(macro): 0.51: 100%|██████████| 41/41 [00:26<00:00,  1.55it/s]\n"
     ]
    },
    {
     "name": "stdout",
     "output_type": "stream",
     "text": [
      "Model saved. Current best test f1: 0.511\n"
     ]
    },
    {
     "name": "stderr",
     "output_type": "stream",
     "text": [
      " Val:       Loss: 1.075, Acc: 60.08% F1(macro): 0.51: 100%|██████████| 41/41 [00:30<00:00,  1.36it/s]\n",
      "\u001b[32m[I 2021-11-29 05:49:11,754]\u001b[0m Trial 0 finished with values: [0.511496383038291, 84180.0, 3.566594155629476] and parameters: {'n_select': 0, 'batch_size': 128, 'optimizer': 'AdamW', 'scheduler': 'linear'}. \u001b[0m\n"
     ]
    },
    {
     "name": "stdout",
     "output_type": "stream",
     "text": [
      "layer                                     name  gradient   parameters                shape         mu      sigma\n",
      "    0                  model.0.0.conv.0.weight      True           48        [16, 3, 1, 1]    -0.0605      0.373\n",
      "    1                  model.0.0.conv.1.weight      True           16                 [16]       0.85      0.257\n",
      "    2                    model.0.0.conv.1.bias      True           16                 [16]      0.126      0.235\n",
      "    3                  model.0.0.conv.3.weight      True          144        [16, 1, 3, 3]    -0.0302      0.249\n",
      "    4                  model.0.0.conv.4.weight      True           16                 [16]       1.07      0.411\n",
      "    5                    model.0.0.conv.4.bias      True           16                 [16]      0.105      0.337\n",
      "    6                  model.0.0.conv.7.weight      True          384       [24, 16, 1, 1]     0.0283      0.193\n",
      "    7                  model.0.0.conv.8.weight      True           24                 [24]      0.992      0.209\n",
      "    8                    model.0.0.conv.8.bias      True           24                 [24]     0.0739      0.175\n",
      "    9                      model.1.conv.weight      True          864        [32, 3, 3, 3]    -0.0166      0.163\n",
      "   10                        model.1.bn.weight      True           32                 [32]       1.15      0.242\n",
      "   11                          model.1.bn.bias      True           32                 [32]     0.0277      0.269\n",
      "   12                      model.2.conv.weight      True          864        [48, 2, 3, 3]    -0.0177      0.181\n",
      "   13                        model.2.bn.weight      True           48                 [48]       1.18      0.337\n",
      "   14                          model.2.bn.bias      True           48                 [48]     -0.177      0.272\n",
      "   15                      model.3.conv.weight      True        13824       [32, 48, 3, 3]   -0.00766     0.0669\n",
      "   16                        model.3.bn.weight      True           32                 [32]       1.06      0.113\n",
      "   17                          model.3.bn.bias      True           32                 [32]     0.0507      0.179\n",
      "   18                      model.4.conv.weight      True         2592        [72, 4, 3, 3]    -0.0098       0.14\n",
      "   19                        model.4.bn.weight      True           72                 [72]       1.05      0.109\n",
      "   20                          model.4.bn.bias      True           72                 [72]    -0.0429      0.143\n",
      "   21                  model.5.0.conv.0.weight      True        23616      [328, 72, 1, 1]   -0.00578      0.104\n",
      "   22                  model.5.0.conv.1.weight      True          328                [328]       1.07      0.129\n",
      "   23                    model.5.0.conv.1.bias      True          328                [328]     -0.094       0.16\n",
      "   24                  model.5.0.conv.3.weight      True         8200       [328, 1, 5, 5]   -0.00799      0.148\n",
      "   25                  model.5.0.conv.4.weight      True          328                [328]       1.04      0.136\n",
      "   26                    model.5.0.conv.4.bias      True          328                [328]     -0.156      0.108\n",
      "   27                  model.5.0.conv.7.weight      True         5248      [16, 328, 1, 1]    0.00149     0.0718\n",
      "   28                  model.5.0.conv.8.weight      True           16                 [16]       1.01     0.0904\n",
      "   29                    model.5.0.conv.8.bias      True           16                 [16]     0.0507     0.0738\n",
      "   30                      model.6.conv.weight      True         9216       [64, 16, 3, 3]    0.00467     0.0803\n",
      "   31                        model.6.bn.weight      True           64                 [64]          1     0.0781\n",
      "   32                          model.6.bn.bias      True           64                 [64]      0.005     0.0933\n",
      "   33                  model.7.0.conv.0.weight      True         6144       [96, 64, 1, 1]   -0.00396      0.116\n",
      "   34                  model.7.0.conv.1.weight      True           96                 [96]       1.11      0.328\n",
      "   35                    model.7.0.conv.1.bias      True           96                 [96]     0.0224      0.139\n",
      "   36                  model.7.0.conv.3.weight      True         2400        [96, 1, 5, 5]    -0.0122      0.169\n",
      "   37                  model.7.0.conv.4.weight      True           96                 [96]       1.01      0.136\n",
      "   38                    model.7.0.conv.4.bias      True           96                 [96]     -0.003      0.159\n",
      "   39                  model.7.0.conv.7.weight      True         4608       [48, 96, 1, 1]  -0.000377      0.103\n",
      "   40                  model.7.0.conv.8.weight      True           48                 [48]          1     0.0997\n",
      "   41                    model.7.0.conv.8.bias      True           48                 [48]  -0.000374    0.00609\n",
      "   42                      model.8.conv.weight      True         3072       [64, 48, 1, 1]    0.00523      0.123\n",
      "   43                        model.8.bn.weight      True           64                 [64]      0.997      0.111\n",
      "   44                          model.8.bn.bias      True           64                 [64]      0.088      0.145\n",
      "   45                     model.10.conv.weight      True          384        [6, 64, 1, 1]    -0.0189       0.15\n",
      "   46                       model.10.bn.weight      True            6                  [6]        1.1      0.266\n",
      "   47                         model.10.bn.bias      True            6                  [6]     -0.115      0.914\n",
      "Model Summary: 67 layers, 84,180 parameters, 84,180 gradients\n",
      "idx |   n |     params |          module |            arguments |   in_channel |   out_channel\n",
      "----------------------------------------------------------------------------------------------\n",
      "  0 |   1 |        688 | InvertedResidualv3 | [3, 5.4, 48, 0, 1, 2] |            3           24\n",
      "  1 |   1 |        928 |          DWConv | [54, 3, 1, None, 'Hardswish'] |           24           32\n",
      "  2 |   1 |        960 |          DWConv | [93, 3, 1, None, 'Hardswish'] |           32           48\n",
      "  3 |   1 |     13,888 |            Conv | [63, 3, 2, None, 1, 'Hardswish'] |           48           32\n",
      "  4 |   1 |      2,736 |          DWConv | [144, 3, 1, None, 'Hardswish'] |           32           72\n",
      "  5 |   1 |     38,408 | InvertedResidualv3 | [5, 4.5, 32, 0, 1, 2] |           72           16\n",
      "  6 |   1 |      9,344 |            Conv | [125, 3, 2, None, 1, 'ReLU'] |           16           64\n",
      "  7 |   1 |     13,632 | InvertedResidualv3 | [5, 1.5, 88, 0, 0, 2] |           64           48\n",
      "  8 |   1 |      3,200 |            Conv |          [128, 1, 1] |           48           64\n",
      "  9 |   1 |          0 |   GlobalAvgPool |                   [] |           64           64\n",
      " 10 |   1 |        396 |       FixedConv | [6, 1, 1, None, 1, None] |           64            6\n",
      "Model Summary: 66 layers, 84,180 parameters, 84,180 gradients\n",
      "1\n",
      "{'INPUT_SIZE': [32, 32], 'backbone': [[3, 'InvertedResidualv3', [3, 5.4, 48, 0, 1, 2]], [2, 'DWConv', [54, 3, 1, None, 'Hardswish']], [5, 'DWConv', [93, 3, 1, None, 'Hardswish']], [5, 'Conv', [63, 3, 2, None, 1, 'Hardswish']], [3, 'DWConv', [144, 3, 1, None, 'Hardswish']], [4, 'InvertedResidualv3', [5, 4.5, 32, 0, 1, 2]], [3, 'Conv', [125, 3, 2, None, 1, 'ReLU']], [1, 'InvertedResidualv3', [5, 1.5, 88, 0, 0, 2]], [1, 'Conv', [128, 1, 1]], [1, 'GlobalAvgPool', []], [1, 'FixedConv', [6, 1, 1, None, 1, None]]], 'depth_multiple': 0.25, 'input_channel': 3, 'width_multiple': 0.5}\n",
      "---------------------------------  ---------------  ---------------  ---------------  ---------------  ---------------  ---------------  ---------------  ---------------  ---------------  ---------------------------------------------  \n",
      "Name                               Self CPU total %  Self CPU total   CPU total %      CPU total        CPU time avg     CUDA total %     CUDA total       CUDA time avg    Number of Calls  Input Shapes                                   \n",
      "---------------------------------  ---------------  ---------------  ---------------  ---------------  ---------------  ---------------  ---------------  ---------------  ---------------  ---------------------------------------------  \n",
      "conv2d                             0.12%            12.465us         4.13%            439.621us        439.621us        1.24%            439.296us        439.296us        1                []                                             \n",
      "convolution                        0.12%            12.749us         4.01%            427.156us        427.156us        1.20%            427.008us        427.008us        1                []                                             \n",
      "_convolution                       0.54%            57.174us         3.89%            414.407us        414.407us        1.16%            413.696us        413.696us        1                []                                             \n",
      "size                               0.05%            5.644us          0.05%            5.644us          5.644us          0.02%            6.144us          6.144us          1                []                                             \n",
      "size                               0.05%            5.626us          0.05%            5.626us          5.626us          0.01%            5.120us          5.120us          1                []                                             \n",
      "size                               0.04%            4.150us          0.04%            4.150us          4.150us          0.01%            4.064us          4.064us          1                []                                             \n",
      "size                               0.05%            4.952us          0.05%            4.952us          4.952us          0.01%            5.120us          5.120us          1                []                                             \n",
      "size                               0.04%            4.680us          0.04%            4.680us          4.680us          0.01%            4.096us          4.096us          1                []                                             \n",
      "size                               0.04%            4.319us          0.04%            4.319us          4.319us          0.01%            4.096us          4.096us          1                []                                             \n",
      "contiguous                         0.05%            4.902us          0.05%            4.902us          4.902us          0.01%            5.120us          5.120us          1                []                                             \n",
      "cudnn_convolution                  1.86%            198.042us        3.03%            322.960us        322.960us        0.91%            322.560us        322.560us        1                []                                             \n",
      "empty                              0.08%            8.396us          0.08%            8.396us          8.396us          0.02%            8.192us          8.192us          1                []                                             \n",
      "contiguous                         0.04%            4.647us          0.04%            4.647us          4.647us          0.01%            4.096us          4.096us          1                []                                             \n",
      "resize_                            0.07%            7.115us          0.07%            7.115us          7.115us          0.02%            7.168us          7.168us          1                []                                             \n",
      "contiguous                         0.04%            4.745us          0.04%            4.745us          4.745us          0.01%            5.120us          5.120us          1                []                                             \n",
      "resize_                            0.05%            5.251us          0.05%            5.251us          5.251us          0.01%            5.120us          5.120us          1                []                                             \n",
      "size                               0.05%            4.987us          0.05%            4.987us          4.987us          0.01%            5.088us          5.088us          1                []                                             \n",
      "stride                             0.06%            6.143us          0.06%            6.143us          6.143us          0.02%            6.144us          6.144us          1                []                                             \n",
      "size                               0.04%            4.538us          0.04%            4.538us          4.538us          0.01%            5.120us          5.120us          1                []                                             \n",
      "size                               0.06%            6.181us          0.06%            6.181us          6.181us          0.02%            6.144us          6.144us          1                []                                             \n",
      "stride                             0.05%            4.855us          0.05%            4.855us          4.855us          0.01%            5.120us          5.120us          1                []                                             \n",
      "size                               0.06%            6.089us          0.06%            6.089us          6.089us          0.02%            6.144us          6.144us          1                []                                             \n",
      "size                               0.05%            4.944us          0.05%            4.944us          4.944us          0.01%            5.120us          5.120us          1                []                                             \n",
      "stride                             0.04%            4.341us          0.04%            4.341us          4.341us          0.01%            4.096us          4.096us          1                []                                             \n",
      "size                               0.05%            5.110us          0.05%            5.110us          5.110us          0.01%            5.088us          5.088us          1                []                                             \n",
      "size                               0.06%            6.174us          0.06%            6.174us          6.174us          0.02%            7.168us          7.168us          1                []                                             \n",
      "stride                             0.05%            5.113us          0.05%            5.113us          5.113us          0.01%            5.120us          5.120us          1                []                                             \n",
      "size                               0.05%            4.961us          0.05%            4.961us          4.961us          0.01%            4.096us          4.096us          1                []                                             \n",
      "size                               0.05%            5.020us          0.05%            5.020us          5.020us          0.01%            5.120us          5.120us          1                []                                             \n",
      "size                               0.06%            6.225us          0.06%            6.225us          6.225us          0.01%            5.120us          5.120us          1                []                                             \n",
      "size                               0.05%            5.184us          0.05%            5.184us          5.184us          0.02%            6.144us          6.144us          1                []                                             \n",
      "size                               0.05%            5.012us          0.05%            5.012us          5.012us          0.01%            5.120us          5.120us          1                []                                             \n",
      "empty                              0.09%            9.887us          0.09%            9.887us          9.887us          0.03%            9.216us          9.216us          1                []                                             \n",
      "batch_norm                         0.12%            13.235us         1.88%            199.789us        199.789us        0.56%            199.680us        199.680us        1                []                                             \n",
      "_batch_norm_impl_index             0.46%            48.737us         1.75%            186.554us        186.554us        0.52%            186.368us        186.368us        1                []                                             \n",
      "size                               0.06%            6.242us          0.06%            6.242us          6.242us          0.02%            6.144us          6.144us          1                []                                             \n",
      "size                               0.04%            4.703us          0.04%            4.703us          4.703us          0.01%            5.120us          5.120us          1                []                                             \n",
      "contiguous                         0.05%            5.681us          0.05%            5.681us          5.681us          0.02%            6.144us          6.144us          1                []                                             \n",
      "contiguous                         0.04%            4.665us          0.04%            4.665us          4.665us          0.01%            4.096us          4.096us          1                []                                             \n",
      "contiguous                         0.07%            7.517us          0.07%            7.517us          7.517us          0.02%            8.192us          8.192us          1                []                                             \n",
      "contiguous                         0.04%            4.546us          0.04%            4.546us          4.546us          0.01%            4.128us          4.128us          1                []                                             \n",
      "contiguous                         0.05%            5.146us          0.05%            5.146us          5.146us          0.01%            5.120us          5.120us          1                []                                             \n",
      "cudnn_batch_norm                   0.56%            59.983us         0.93%            99.317us         99.317us         0.28%            99.328us         99.328us         1                []                                             \n",
      "size                               0.05%            5.547us          0.05%            5.547us          5.547us          0.02%            6.144us          6.144us          1                []                                             \n",
      "empty_like                         0.10%            11.001us         0.17%            18.490us         18.490us         0.05%            18.432us         18.432us         1                []                                             \n",
      "empty                              0.07%            7.489us          0.07%            7.489us          7.489us          0.02%            8.192us          8.192us          1                []                                             \n",
      "view                               0.08%            8.977us          0.08%            8.977us          8.977us          0.02%            8.192us          8.192us          1                []                                             \n",
      "empty                              0.06%            6.320us          0.06%            6.320us          6.320us          0.02%            6.144us          6.144us          1                []                                             \n",
      "is_complex                         0.06%            5.887us          0.06%            5.887us          5.887us          0.01%            5.120us          5.120us          1                []                                             \n",
      "add                                0.42%            45.258us         0.49%            52.693us         52.693us         0.15%            52.224us         52.224us         1                []                                             \n",
      "empty                              0.07%            7.435us          0.07%            7.435us          7.435us          0.02%            8.192us          8.192us          1                []                                             \n",
      "hardtanh                           0.22%            23.682us         0.85%            91.055us         91.055us         0.26%            91.136us         91.136us         1                []                                             \n",
      "clamp                              0.18%            19.500us         0.63%            67.373us         67.373us         0.19%            67.584us         67.584us         1                []                                             \n",
      "empty                              0.05%            5.427us          0.05%            5.427us          5.427us          0.02%            6.144us          6.144us          1                []                                             \n",
      "clamp_out                          0.25%            27.162us         0.40%            42.446us         42.446us         0.12%            43.008us         43.008us         1                []                                             \n",
      "is_complex                         0.05%            5.509us          0.05%            5.509us          5.509us          0.02%            6.112us          6.112us          1                []                                             \n",
      "resize_                            0.09%            9.775us          0.09%            9.775us          9.775us          0.03%            9.216us          9.216us          1                []                                             \n",
      "is_complex                         0.05%            5.492us          0.05%            5.492us          5.492us          0.01%            5.120us          5.120us          1                []                                             \n",
      "div_                               0.30%            31.725us         0.30%            31.725us         31.725us         0.09%            31.744us         31.744us         1                []                                             \n",
      "mul                                0.32%            34.131us         0.39%            41.607us         41.607us         0.12%            41.984us         41.984us         1                []                                             \n",
      "empty                              0.07%            7.476us          0.07%            7.476us          7.476us          0.02%            7.168us          7.168us          1                []                                             \n",
      "conv2d                             0.13%            13.570us         1.92%            204.879us        204.879us        0.57%            203.776us        203.776us        1                []                                             \n",
      "convolution                        0.12%            13.042us         1.80%            191.309us        191.309us        0.54%            191.488us        191.488us        1                []                                             \n",
      "_convolution                       0.72%            77.130us         1.67%            178.267us        178.267us        0.50%            178.176us        178.176us        1                []                                             \n",
      "size                               0.05%            5.324us          0.05%            5.324us          5.324us          0.01%            5.120us          5.120us          1                []                                             \n",
      "size                               0.05%            5.041us          0.05%            5.041us          5.041us          0.01%            5.120us          5.120us          1                []                                             \n",
      "size                               0.05%            5.206us          0.05%            5.206us          5.206us          0.01%            5.120us          5.120us          1                []                                             \n",
      "size                               0.05%            5.441us          0.05%            5.441us          5.441us          0.01%            5.120us          5.120us          1                []                                             \n",
      "size                               0.05%            5.363us          0.05%            5.363us          5.363us          0.01%            5.120us          5.120us          1                []                                             \n",
      "size                               0.05%            5.455us          0.05%            5.455us          5.455us          0.01%            5.120us          5.120us          1                []                                             \n",
      "size                               0.05%            5.223us          0.05%            5.223us          5.223us          0.02%            6.144us          6.144us          1                []                                             \n",
      "size                               0.06%            6.685us          0.06%            6.685us          6.685us          0.02%            6.144us          6.144us          1                []                                             \n",
      "size                               0.05%            4.947us          0.05%            4.947us          4.947us          0.01%            5.120us          5.120us          1                []                                             \n",
      "contiguous                         0.05%            5.642us          0.05%            5.642us          5.642us          0.01%            5.120us          5.120us          1                []                                             \n",
      "thnn_conv_depthwise2d              0.12%            12.933us         0.44%            46.810us         46.810us         0.13%            46.080us         46.080us         1                []                                             \n",
      "thnn_conv_depthwise2d_forward      0.32%            33.877us         0.32%            33.877us         33.877us         0.10%            33.792us         33.792us         1                []                                             \n",
      "batch_norm                         0.11%            12.110us         1.88%            199.951us        199.951us        0.56%            199.680us        199.680us        1                []                                             \n",
      "_batch_norm_impl_index             0.50%            52.973us         1.76%            187.841us        187.841us        0.53%            188.416us        188.416us        1                []                                             \n",
      "size                               0.05%            5.005us          0.05%            5.005us          5.005us          0.01%            5.120us          5.120us          1                []                                             \n",
      "size                               0.05%            4.986us          0.05%            4.986us          4.986us          0.01%            4.128us          4.128us          1                []                                             \n",
      "contiguous                         0.05%            5.702us          0.05%            5.702us          5.702us          0.02%            6.144us          6.144us          1                []                                             \n",
      "contiguous                         0.05%            4.994us          0.05%            4.994us          4.994us          0.01%            5.120us          5.120us          1                []                                             \n",
      "contiguous                         0.05%            5.681us          0.05%            5.681us          5.681us          0.01%            5.120us          5.120us          1                []                                             \n",
      "contiguous                         0.05%            5.506us          0.05%            5.506us          5.506us          0.01%            5.120us          5.120us          1                []                                             \n",
      "contiguous                         0.05%            5.354us          0.05%            5.354us          5.354us          0.02%            6.144us          6.144us          1                []                                             \n",
      "cudnn_batch_norm                   0.57%            60.998us         0.92%            97.640us         97.640us         0.28%            98.304us         98.304us         1                []                                             \n",
      "size                               0.05%            4.916us          0.05%            4.916us          4.916us          0.01%            5.120us          5.120us          1                []                                             \n",
      "empty_like                         0.11%            11.355us         0.18%            18.951us         18.951us         0.05%            18.432us         18.432us         1                []                                             \n",
      "empty                              0.07%            7.596us          0.07%            7.596us          7.596us          0.02%            8.192us          8.192us          1                []                                             \n",
      "view                               0.07%            7.374us          0.07%            7.374us          7.374us          0.02%            7.168us          7.168us          1                []                                             \n",
      "empty                              0.05%            5.401us          0.05%            5.401us          5.401us          0.02%            6.144us          6.144us          1                []                                             \n",
      "is_complex                         0.05%            5.542us          0.05%            5.542us          5.542us          0.01%            5.088us          5.088us          1                []                                             \n",
      "add                                0.36%            38.826us         0.44%            46.410us         46.410us         0.13%            46.080us         46.080us         1                []                                             \n",
      "empty                              0.07%            7.584us          0.07%            7.584us          7.584us          0.02%            7.168us          7.168us          1                []                                             \n",
      "hardtanh                           0.24%            25.819us         1.16%            123.646us        123.646us        0.35%            124.928us        124.928us        1                []                                             \n",
      "clamp                              0.27%            29.027us         0.92%            97.827us         97.827us         0.28%            98.304us         98.304us         1                []                                             \n",
      "empty                              0.05%            5.428us          0.05%            5.428us          5.428us          0.02%            6.144us          6.144us          1                []                                             \n",
      "clamp_out                          0.39%            41.065us         0.59%            63.372us         63.372us         0.18%            64.512us         64.512us         1                []                                             \n",
      "is_complex                         0.08%            8.375us          0.08%            8.375us          8.375us          0.02%            7.168us          7.168us          1                []                                             \n",
      "resize_                            0.13%            13.932us         0.13%            13.932us         13.932us         0.03%            12.288us         12.288us         1                []                                             \n",
      "---------------------------------  ---------------  ---------------  ---------------  ---------------  ---------------  ---------------  ---------------  ---------------  ---------------  ---------------------------------------------  \n",
      "Self CPU time total: 10.654ms\n",
      "CUDA time total: 35.525ms\n",
      "\n",
      "measured time(ms) 3.5782037576039634\n",
      "layer                                     name  gradient   parameters                shape         mu      sigma\n",
      "    0                  model.0.0.conv.0.weight      True           48        [16, 3, 1, 1]    -0.0178      0.361\n",
      "    1                  model.0.0.conv.1.weight      True           16                 [16]          1          0\n",
      "    2                    model.0.0.conv.1.bias      True           16                 [16]          0          0\n",
      "    3                  model.0.0.conv.3.weight      True          144        [16, 1, 3, 3]    0.00395      0.193\n",
      "    4                  model.0.0.conv.4.weight      True           16                 [16]          1          0\n",
      "    5                    model.0.0.conv.4.bias      True           16                 [16]          0          0\n",
      "    6                  model.0.0.conv.7.weight      True          384       [24, 16, 1, 1]     0.0135      0.145\n",
      "    7                  model.0.0.conv.8.weight      True           24                 [24]          1          0\n",
      "    8                    model.0.0.conv.8.bias      True           24                 [24]          0          0\n",
      "    9                      model.1.conv.weight      True          864        [32, 3, 3, 3]   0.000127       0.11\n",
      "   10                        model.1.bn.weight      True           32                 [32]          1          0\n",
      "   11                          model.1.bn.bias      True           32                 [32]          0          0\n",
      "   12                      model.2.conv.weight      True          864        [48, 2, 3, 3]   -0.00704      0.136\n",
      "   13                        model.2.bn.weight      True           48                 [48]          1          0\n",
      "   14                          model.2.bn.bias      True           48                 [48]          0          0\n",
      "   15                      model.3.conv.weight      True        13824       [32, 48, 3, 3]   0.000546     0.0277\n",
      "   16                        model.3.bn.weight      True           32                 [32]          1          0\n",
      "   17                          model.3.bn.bias      True           32                 [32]          0          0\n",
      "   18                      model.4.conv.weight      True         2592        [72, 4, 3, 3]   0.000179     0.0969\n",
      "   19                        model.4.bn.weight      True           72                 [72]          1          0\n",
      "   20                          model.4.bn.bias      True           72                 [72]          0          0\n",
      "   21                  model.5.0.conv.0.weight      True        23616      [328, 72, 1, 1]   0.000246     0.0677\n",
      "   22                  model.5.0.conv.1.weight      True          328                [328]          1          0\n",
      "   23                    model.5.0.conv.1.bias      True          328                [328]          0          0\n",
      "   24                  model.5.0.conv.3.weight      True         8200       [328, 1, 5, 5]  -0.000196      0.115\n",
      "   25                  model.5.0.conv.4.weight      True          328                [328]          1          0\n",
      "   26                    model.5.0.conv.4.bias      True          328                [328]          0          0\n",
      "   27                  model.5.0.conv.7.weight      True         5248      [16, 328, 1, 1]   5.78e-06     0.0318\n",
      "   28                  model.5.0.conv.8.weight      True           16                 [16]          1          0\n",
      "   29                    model.5.0.conv.8.bias      True           16                 [16]          0          0\n",
      "   30                      model.6.conv.weight      True         9216       [64, 16, 3, 3]    0.00105     0.0482\n",
      "   31                        model.6.bn.weight      True           64                 [64]          1          0\n",
      "   32                          model.6.bn.bias      True           64                 [64]          0          0\n",
      "   33                  model.7.0.conv.0.weight      True         6144       [96, 64, 1, 1]  -7.62e-05     0.0726\n",
      "   34                  model.7.0.conv.1.weight      True           96                 [96]          1          0\n",
      "   35                    model.7.0.conv.1.bias      True           96                 [96]          0          0\n",
      "   36                  model.7.0.conv.3.weight      True         2400        [96, 1, 5, 5]    -0.0018      0.115\n",
      "   37                  model.7.0.conv.4.weight      True           96                 [96]          1          0\n",
      "   38                    model.7.0.conv.4.bias      True           96                 [96]          0          0\n",
      "   39                  model.7.0.conv.7.weight      True         4608       [48, 96, 1, 1]  -0.000133     0.0589\n",
      "   40                  model.7.0.conv.8.weight      True           48                 [48]          1          0\n",
      "   41                    model.7.0.conv.8.bias      True           48                 [48]          0          0\n",
      "   42                      model.8.conv.weight      True         3072       [64, 48, 1, 1]  -0.000676     0.0832\n",
      "   43                        model.8.bn.weight      True           64                 [64]          1          0\n",
      "   44                          model.8.bn.bias      True           64                 [64]          0          0\n",
      "   45                     model.10.conv.weight      True          384        [6, 64, 1, 1]    0.00746     0.0729\n",
      "   46                       model.10.bn.weight      True            6                  [6]          1          0\n",
      "   47                         model.10.bn.bias      True            6                  [6]          0          0\n",
      "Model Summary: 67 layers, 84,180 parameters, 84,180 gradients\n"
     ]
    },
    {
     "name": "stderr",
     "output_type": "stream",
     "text": [
      "Train: [001] Loss: 1.931, Acc: 17.80% F1(macro): 0.15: 100%|██████████| 48/48 [00:20<00:00,  2.34it/s]\n",
      " Val:       Loss: 1.765, Acc: 27.81% F1(macro): 0.19: 100%|██████████| 55/55 [00:28<00:00,  1.92it/s]\n"
     ]
    },
    {
     "name": "stdout",
     "output_type": "stream",
     "text": [
      "Model saved. Current best test f1: 0.187\n"
     ]
    },
    {
     "name": "stderr",
     "output_type": "stream",
     "text": [
      "Train: [002] Loss: 1.725, Acc: 31.27% F1(macro): 0.17: 100%|██████████| 48/48 [00:16<00:00,  2.86it/s]\n",
      " Val:       Loss: 1.677, Acc: 36.61% F1(macro): 0.17: 100%|██████████| 55/55 [00:28<00:00,  1.96it/s]\n",
      "Train: [003] Loss: 1.636, Acc: 36.18% F1(macro): 0.17: 100%|██████████| 48/48 [00:17<00:00,  2.74it/s]\n",
      " Val:       Loss: 1.571, Acc: 39.30% F1(macro): 0.20: 100%|██████████| 55/55 [00:24<00:00,  2.23it/s]\n"
     ]
    },
    {
     "name": "stdout",
     "output_type": "stream",
     "text": [
      "Model saved. Current best test f1: 0.202\n"
     ]
    },
    {
     "name": "stderr",
     "output_type": "stream",
     "text": [
      "Train: [004] Loss: 1.566, Acc: 37.59% F1(macro): 0.18: 100%|██████████| 48/48 [00:19<00:00,  2.43it/s]\n",
      " Val:       Loss: 1.534, Acc: 40.03% F1(macro): 0.18: 100%|██████████| 55/55 [00:31<00:00,  1.73it/s]\n",
      "Train: [005] Loss: 1.536, Acc: 38.32% F1(macro): 0.17: 100%|██████████| 48/48 [00:15<00:00,  3.08it/s]\n",
      " Val:       Loss: 1.514, Acc: 40.36% F1(macro): 0.21: 100%|██████████| 55/55 [00:27<00:00,  2.04it/s]\n"
     ]
    },
    {
     "name": "stdout",
     "output_type": "stream",
     "text": [
      "Model saved. Current best test f1: 0.209\n"
     ]
    },
    {
     "name": "stderr",
     "output_type": "stream",
     "text": [
      "Train: [006] Loss: 1.520, Acc: 38.26% F1(macro): 0.19: 100%|██████████| 48/48 [00:19<00:00,  2.46it/s]\n",
      " Val:       Loss: 1.486, Acc: 40.51% F1(macro): 0.21: 100%|██████████| 55/55 [00:32<00:00,  1.67it/s]\n"
     ]
    },
    {
     "name": "stdout",
     "output_type": "stream",
     "text": [
      "Model saved. Current best test f1: 0.211\n"
     ]
    },
    {
     "name": "stderr",
     "output_type": "stream",
     "text": [
      "Train: [007] Loss: 1.510, Acc: 38.54% F1(macro): 0.19: 100%|██████████| 48/48 [00:17<00:00,  2.68it/s]\n",
      " Val:       Loss: 1.481, Acc: 40.61% F1(macro): 0.21: 100%|██████████| 55/55 [00:28<00:00,  1.94it/s]\n",
      "Train: [008] Loss: 1.498, Acc: 38.39% F1(macro): 0.19: 100%|██████████| 48/48 [00:17<00:00,  2.70it/s]\n",
      " Val:       Loss: 1.453, Acc: 41.11% F1(macro): 0.23: 100%|██████████| 55/55 [00:31<00:00,  1.73it/s]\n"
     ]
    },
    {
     "name": "stdout",
     "output_type": "stream",
     "text": [
      "Model saved. Current best test f1: 0.225\n"
     ]
    },
    {
     "name": "stderr",
     "output_type": "stream",
     "text": [
      "Train: [009] Loss: 1.492, Acc: 39.24% F1(macro): 0.20: 100%|██████████| 48/48 [00:18<00:00,  2.59it/s]\n",
      " Val:       Loss: 1.433, Acc: 42.10% F1(macro): 0.24: 100%|██████████| 55/55 [00:29<00:00,  1.84it/s]\n"
     ]
    },
    {
     "name": "stdout",
     "output_type": "stream",
     "text": [
      "Model saved. Current best test f1: 0.242\n"
     ]
    },
    {
     "name": "stderr",
     "output_type": "stream",
     "text": [
      "Train: [010] Loss: 1.481, Acc: 39.97% F1(macro): 0.21: 100%|██████████| 48/48 [00:17<00:00,  2.78it/s]\n",
      " Val:       Loss: 1.429, Acc: 41.89% F1(macro): 0.24: 100%|██████████| 55/55 [00:28<00:00,  1.95it/s]\n",
      "Train: [011] Loss: 1.479, Acc: 39.93% F1(macro): 0.23: 100%|██████████| 48/48 [00:16<00:00,  2.88it/s]\n",
      " Val:       Loss: 1.436, Acc: 42.01% F1(macro): 0.24: 100%|██████████| 55/55 [00:30<00:00,  1.79it/s]\n",
      "Train: [012] Loss: 1.470, Acc: 40.23% F1(macro): 0.21: 100%|██████████| 48/48 [00:18<00:00,  2.66it/s]\n",
      " Val:       Loss: 1.417, Acc: 42.43% F1(macro): 0.25: 100%|██████████| 55/55 [00:26<00:00,  2.10it/s]\n"
     ]
    },
    {
     "name": "stdout",
     "output_type": "stream",
     "text": [
      "Model saved. Current best test f1: 0.246\n"
     ]
    },
    {
     "name": "stderr",
     "output_type": "stream",
     "text": [
      "Train: [013] Loss: 1.468, Acc: 40.89% F1(macro): 0.23: 100%|██████████| 48/48 [00:17<00:00,  2.76it/s]\n",
      " Val:       Loss: 1.441, Acc: 42.58% F1(macro): 0.27: 100%|██████████| 55/55 [00:33<00:00,  1.64it/s]\n"
     ]
    },
    {
     "name": "stdout",
     "output_type": "stream",
     "text": [
      "Model saved. Current best test f1: 0.270\n"
     ]
    },
    {
     "name": "stderr",
     "output_type": "stream",
     "text": [
      "Train: [014] Loss: 1.467, Acc: 40.89% F1(macro): 0.22: 100%|██████████| 48/48 [00:17<00:00,  2.70it/s]\n",
      " Val:       Loss: 1.410, Acc: 43.01% F1(macro): 0.26: 100%|██████████| 55/55 [00:27<00:00,  1.99it/s]\n",
      "Train: [015] Loss: 1.452, Acc: 41.23% F1(macro): 0.24: 100%|██████████| 48/48 [00:15<00:00,  3.02it/s]\n",
      " Val:       Loss: 1.426, Acc: 42.97% F1(macro): 0.25: 100%|██████████| 55/55 [00:29<00:00,  1.84it/s]\n",
      "Train: [016] Loss: 1.442, Acc: 41.51% F1(macro): 0.25: 100%|██████████| 48/48 [00:19<00:00,  2.44it/s]\n",
      " Val:       Loss: 1.399, Acc: 43.95% F1(macro): 0.27: 100%|██████████| 55/55 [00:25<00:00,  2.13it/s]\n",
      "Train: [017] Loss: 1.445, Acc: 41.88% F1(macro): 0.25: 100%|██████████| 48/48 [00:14<00:00,  3.21it/s]\n",
      " Val:       Loss: 1.409, Acc: 43.87% F1(macro): 0.29: 100%|██████████| 55/55 [00:26<00:00,  2.07it/s]\n"
     ]
    },
    {
     "name": "stdout",
     "output_type": "stream",
     "text": [
      "Model saved. Current best test f1: 0.294\n"
     ]
    },
    {
     "name": "stderr",
     "output_type": "stream",
     "text": [
      "Train: [018] Loss: 1.443, Acc: 43.19% F1(macro): 0.25: 100%|██████████| 48/48 [00:16<00:00,  3.00it/s]\n",
      " Val:       Loss: 1.377, Acc: 45.08% F1(macro): 0.30: 100%|██████████| 55/55 [00:24<00:00,  2.20it/s]\n"
     ]
    },
    {
     "name": "stdout",
     "output_type": "stream",
     "text": [
      "Model saved. Current best test f1: 0.302\n"
     ]
    },
    {
     "name": "stderr",
     "output_type": "stream",
     "text": [
      "Train: [019] Loss: 1.441, Acc: 42.36% F1(macro): 0.25: 100%|██████████| 48/48 [00:16<00:00,  2.91it/s]\n",
      " Val:       Loss: 1.384, Acc: 45.58% F1(macro): 0.29: 100%|██████████| 55/55 [00:26<00:00,  2.07it/s]\n",
      "Train: [020] Loss: 1.422, Acc: 42.56% F1(macro): 0.25: 100%|██████████| 48/48 [00:17<00:00,  2.77it/s]\n",
      " Val:       Loss: 1.391, Acc: 44.87% F1(macro): 0.30: 100%|██████████| 55/55 [00:24<00:00,  2.25it/s]\n"
     ]
    },
    {
     "name": "stdout",
     "output_type": "stream",
     "text": [
      "Model saved. Current best test f1: 0.304\n"
     ]
    },
    {
     "name": "stderr",
     "output_type": "stream",
     "text": [
      "Train: [021] Loss: 1.430, Acc: 42.62% F1(macro): 0.26: 100%|██████████| 48/48 [00:15<00:00,  3.01it/s]\n",
      " Val:       Loss: 1.353, Acc: 47.15% F1(macro): 0.32: 100%|██████████| 55/55 [00:24<00:00,  2.24it/s]\n"
     ]
    },
    {
     "name": "stdout",
     "output_type": "stream",
     "text": [
      "Model saved. Current best test f1: 0.316\n"
     ]
    },
    {
     "name": "stderr",
     "output_type": "stream",
     "text": [
      "Train: [022] Loss: 1.414, Acc: 43.25% F1(macro): 0.27: 100%|██████████| 48/48 [00:16<00:00,  2.88it/s]\n",
      " Val:       Loss: 1.356, Acc: 46.92% F1(macro): 0.33: 100%|██████████| 55/55 [00:25<00:00,  2.14it/s]\n"
     ]
    },
    {
     "name": "stdout",
     "output_type": "stream",
     "text": [
      "Model saved. Current best test f1: 0.326\n"
     ]
    },
    {
     "name": "stderr",
     "output_type": "stream",
     "text": [
      "Train: [023] Loss: 1.414, Acc: 44.14% F1(macro): 0.27: 100%|██████████| 48/48 [00:16<00:00,  2.97it/s]\n",
      " Val:       Loss: 1.369, Acc: 45.81% F1(macro): 0.29: 100%|██████████| 55/55 [00:25<00:00,  2.19it/s]\n",
      "Train: [024] Loss: 1.404, Acc: 43.27% F1(macro): 0.26: 100%|██████████| 48/48 [00:15<00:00,  3.15it/s]\n",
      " Val:       Loss: 1.378, Acc: 45.92% F1(macro): 0.30: 100%|██████████| 55/55 [00:24<00:00,  2.26it/s]\n",
      "Train: [025] Loss: 1.399, Acc: 45.10% F1(macro): 0.28: 100%|██████████| 48/48 [00:15<00:00,  3.20it/s]\n",
      " Val:       Loss: 1.371, Acc: 45.56% F1(macro): 0.32: 100%|██████████| 55/55 [00:23<00:00,  2.34it/s]\n",
      "Train: [026] Loss: 1.401, Acc: 44.60% F1(macro): 0.29: 100%|██████████| 48/48 [00:15<00:00,  3.15it/s]\n",
      " Val:       Loss: 1.393, Acc: 46.59% F1(macro): 0.29: 100%|██████████| 55/55 [00:24<00:00,  2.27it/s]\n",
      "Train: [027] Loss: 1.401, Acc: 44.40% F1(macro): 0.28: 100%|██████████| 48/48 [00:14<00:00,  3.21it/s]\n",
      " Val:       Loss: 1.311, Acc: 49.95% F1(macro): 0.37: 100%|██████████| 55/55 [00:24<00:00,  2.22it/s]\n"
     ]
    },
    {
     "name": "stdout",
     "output_type": "stream",
     "text": [
      "Model saved. Current best test f1: 0.372\n"
     ]
    },
    {
     "name": "stderr",
     "output_type": "stream",
     "text": [
      "Train: [028] Loss: 1.391, Acc: 45.29% F1(macro): 0.29: 100%|██████████| 48/48 [00:15<00:00,  3.02it/s]\n",
      " Val:       Loss: 1.348, Acc: 47.80% F1(macro): 0.32: 100%|██████████| 55/55 [00:26<00:00,  2.11it/s]\n",
      "Train: [029] Loss: 1.376, Acc: 46.18% F1(macro): 0.31: 100%|██████████| 48/48 [00:15<00:00,  3.15it/s]\n",
      " Val:       Loss: 1.312, Acc: 49.17% F1(macro): 0.34: 100%|██████████| 55/55 [00:26<00:00,  2.11it/s]\n",
      "Train: [030] Loss: 1.366, Acc: 45.88% F1(macro): 0.30: 100%|██████████| 48/48 [00:17<00:00,  2.82it/s]\n",
      " Val:       Loss: 1.306, Acc: 50.66% F1(macro): 0.38: 100%|██████████| 55/55 [00:27<00:00,  1.98it/s]\n"
     ]
    },
    {
     "name": "stdout",
     "output_type": "stream",
     "text": [
      "Model saved. Current best test f1: 0.376\n"
     ]
    },
    {
     "name": "stderr",
     "output_type": "stream",
     "text": [
      "Train: [031] Loss: 1.375, Acc: 45.55% F1(macro): 0.30: 100%|██████████| 48/48 [00:15<00:00,  3.12it/s]\n",
      " Val:       Loss: 1.350, Acc: 48.38% F1(macro): 0.31: 100%|██████████| 55/55 [00:24<00:00,  2.24it/s]\n",
      "Train: [032] Loss: 1.366, Acc: 46.66% F1(macro): 0.32: 100%|██████████| 48/48 [00:16<00:00,  2.92it/s]\n",
      " Val:       Loss: 1.313, Acc: 49.53% F1(macro): 0.36: 100%|██████████| 55/55 [00:28<00:00,  1.95it/s]\n",
      "Train: [033] Loss: 1.353, Acc: 46.77% F1(macro): 0.32: 100%|██████████| 48/48 [00:16<00:00,  2.97it/s]\n",
      " Val:       Loss: 1.305, Acc: 49.55% F1(macro): 0.36: 100%|██████████| 55/55 [00:24<00:00,  2.27it/s]\n",
      "Train: [034] Loss: 1.361, Acc: 46.83% F1(macro): 0.32: 100%|██████████| 48/48 [00:16<00:00,  2.85it/s]\n",
      " Val:       Loss: 1.288, Acc: 50.57% F1(macro): 0.37: 100%|██████████| 55/55 [00:27<00:00,  2.00it/s]\n",
      "Train: [035] Loss: 1.353, Acc: 46.83% F1(macro): 0.33: 100%|██████████| 48/48 [00:16<00:00,  2.87it/s]\n",
      " Val:       Loss: 1.354, Acc: 47.90% F1(macro): 0.35: 100%|██████████| 55/55 [00:24<00:00,  2.25it/s]\n",
      "Train: [036] Loss: 1.346, Acc: 47.46% F1(macro): 0.32: 100%|██████████| 48/48 [00:15<00:00,  3.07it/s]\n",
      " Val:       Loss: 1.301, Acc: 50.20% F1(macro): 0.34: 100%|██████████| 55/55 [00:25<00:00,  2.16it/s]\n",
      "Train: [037] Loss: 1.344, Acc: 47.14% F1(macro): 0.32: 100%|██████████| 48/48 [00:15<00:00,  3.03it/s]\n",
      " Val:       Loss: 1.451, Acc: 43.04% F1(macro): 0.27: 100%|██████████| 55/55 [00:27<00:00,  2.01it/s]\n",
      "Train: [038] Loss: 1.338, Acc: 48.29% F1(macro): 0.32: 100%|██████████| 48/48 [00:15<00:00,  3.05it/s]\n",
      " Val:       Loss: 1.276, Acc: 51.16% F1(macro): 0.37: 100%|██████████| 55/55 [00:28<00:00,  1.91it/s]\n",
      "Train: [039] Loss: 1.340, Acc: 47.81% F1(macro): 0.32: 100%|██████████| 48/48 [00:18<00:00,  2.63it/s]\n",
      " Val:       Loss: 1.269, Acc: 51.70% F1(macro): 0.39: 100%|██████████| 55/55 [00:26<00:00,  2.09it/s]\n"
     ]
    },
    {
     "name": "stdout",
     "output_type": "stream",
     "text": [
      "Model saved. Current best test f1: 0.386\n"
     ]
    },
    {
     "name": "stderr",
     "output_type": "stream",
     "text": [
      "Train: [040] Loss: 1.332, Acc: 48.00% F1(macro): 0.33: 100%|██████████| 48/48 [00:15<00:00,  3.07it/s]\n",
      " Val:       Loss: 1.299, Acc: 50.26% F1(macro): 0.36: 100%|██████████| 55/55 [00:26<00:00,  2.06it/s]\n",
      "Train: [041] Loss: 1.319, Acc: 48.24% F1(macro): 0.33: 100%|██████████| 48/48 [00:17<00:00,  2.71it/s]\n",
      " Val:       Loss: 1.285, Acc: 51.99% F1(macro): 0.38: 100%|██████████| 55/55 [00:24<00:00,  2.21it/s]\n",
      "Train: [042] Loss: 1.324, Acc: 48.00% F1(macro): 0.33: 100%|██████████| 48/48 [00:15<00:00,  3.05it/s]\n",
      " Val:       Loss: 1.260, Acc: 52.33% F1(macro): 0.38: 100%|██████████| 55/55 [00:24<00:00,  2.21it/s]\n",
      "Train: [043] Loss: 1.322, Acc: 48.16% F1(macro): 0.34: 100%|██████████| 48/48 [00:17<00:00,  2.81it/s]\n",
      " Val:       Loss: 1.274, Acc: 51.85% F1(macro): 0.39: 100%|██████████| 55/55 [00:24<00:00,  2.22it/s]\n"
     ]
    },
    {
     "name": "stdout",
     "output_type": "stream",
     "text": [
      "Model saved. Current best test f1: 0.386\n"
     ]
    },
    {
     "name": "stderr",
     "output_type": "stream",
     "text": [
      "Train: [044] Loss: 1.313, Acc: 49.20% F1(macro): 0.35: 100%|██████████| 48/48 [00:16<00:00,  2.90it/s]\n",
      " Val:       Loss: 1.258, Acc: 52.50% F1(macro): 0.39: 100%|██████████| 55/55 [00:26<00:00,  2.08it/s]\n"
     ]
    },
    {
     "name": "stdout",
     "output_type": "stream",
     "text": [
      "Model saved. Current best test f1: 0.387\n"
     ]
    },
    {
     "name": "stderr",
     "output_type": "stream",
     "text": [
      "Train: [045] Loss: 1.316, Acc: 49.78% F1(macro): 0.34: 100%|██████████| 48/48 [00:15<00:00,  3.05it/s]\n",
      " Val:       Loss: 1.256, Acc: 52.45% F1(macro): 0.39: 100%|██████████| 55/55 [00:24<00:00,  2.25it/s]\n"
     ]
    },
    {
     "name": "stdout",
     "output_type": "stream",
     "text": [
      "Model saved. Current best test f1: 0.393\n"
     ]
    },
    {
     "name": "stderr",
     "output_type": "stream",
     "text": [
      "Train: [046] Loss: 1.297, Acc: 49.87% F1(macro): 0.34: 100%|██████████| 48/48 [00:15<00:00,  3.12it/s]\n",
      " Val:       Loss: 1.261, Acc: 52.33% F1(macro): 0.37: 100%|██████████| 55/55 [00:23<00:00,  2.35it/s]\n",
      "Train: [047] Loss: 1.305, Acc: 49.18% F1(macro): 0.35: 100%|██████████| 48/48 [00:16<00:00,  2.99it/s]\n",
      " Val:       Loss: 1.248, Acc: 52.85% F1(macro): 0.40: 100%|██████████| 55/55 [00:25<00:00,  2.16it/s]\n"
     ]
    },
    {
     "name": "stdout",
     "output_type": "stream",
     "text": [
      "Model saved. Current best test f1: 0.399\n"
     ]
    },
    {
     "name": "stderr",
     "output_type": "stream",
     "text": [
      "Train: [048] Loss: 1.299, Acc: 49.80% F1(macro): 0.35: 100%|██████████| 48/48 [00:15<00:00,  3.18it/s]\n",
      " Val:       Loss: 1.248, Acc: 52.85% F1(macro): 0.40: 100%|██████████| 55/55 [00:28<00:00,  1.93it/s]\n"
     ]
    },
    {
     "name": "stdout",
     "output_type": "stream",
     "text": [
      "Model saved. Current best test f1: 0.400\n"
     ]
    },
    {
     "name": "stderr",
     "output_type": "stream",
     "text": [
      "Train: [049] Loss: 1.297, Acc: 50.09% F1(macro): 0.35: 100%|██████████| 48/48 [00:17<00:00,  2.81it/s]\n",
      " Val:       Loss: 1.250, Acc: 52.89% F1(macro): 0.38: 100%|██████████| 55/55 [00:25<00:00,  2.15it/s]\n",
      "Train: [050] Loss: 1.285, Acc: 50.37% F1(macro): 0.36: 100%|██████████| 48/48 [00:17<00:00,  2.79it/s]\n",
      " Val:       Loss: 1.242, Acc: 53.12% F1(macro): 0.40: 100%|██████████| 55/55 [00:30<00:00,  1.83it/s]\n",
      " Val:       Loss: 1.242, Acc: 53.12% F1(macro): 0.40: 100%|██████████| 55/55 [00:24<00:00,  2.27it/s]\n",
      "\u001b[32m[I 2021-11-29 06:26:33,996]\u001b[0m Trial 1 finished with values: [0.39743930107508313, 84180.0, 3.5782037576039634] and parameters: {'n_select': 6, 'batch_size': 96, 'optimizer': 'MomentumSGD', 'scheduler': 'linear'}. \u001b[0m\n"
     ]
    },
    {
     "name": "stdout",
     "output_type": "stream",
     "text": [
      "layer                                     name  gradient   parameters                shape         mu      sigma\n",
      "    0                  model.0.0.conv.0.weight      True           48        [16, 3, 1, 1]    -0.0229      0.382\n",
      "    1                  model.0.0.conv.1.weight      True           16                 [16]       1.01     0.0368\n",
      "    2                    model.0.0.conv.1.bias      True           16                 [16]       0.01     0.0244\n",
      "    3                  model.0.0.conv.3.weight      True          144        [16, 1, 3, 3]    0.00642      0.205\n",
      "    4                  model.0.0.conv.4.weight      True           16                 [16]       1.02     0.0731\n",
      "    5                    model.0.0.conv.4.bias      True           16                 [16]     0.0346     0.0555\n",
      "    6                  model.0.0.conv.7.weight      True          384       [24, 16, 1, 1]     0.0163       0.15\n",
      "    7                  model.0.0.conv.8.weight      True           24                 [24]          1     0.0276\n",
      "    8                    model.0.0.conv.8.bias      True           24                 [24]   2.53e-05    0.00336\n",
      "    9                      model.1.conv.weight      True          864        [32, 3, 3, 3]   -0.00357      0.115\n",
      "   10                        model.1.bn.weight      True           32                 [32]       1.01     0.0595\n",
      "   11                          model.1.bn.bias      True           32                 [32]     0.0057     0.0325\n",
      "   12                      model.2.conv.weight      True          864        [48, 2, 3, 3]    -0.0132      0.138\n",
      "   13                        model.2.bn.weight      True           48                 [48]       1.01     0.0566\n",
      "   14                          model.2.bn.bias      True           48                 [48]   -0.00203    0.00708\n",
      "   15                      model.3.conv.weight      True        13824       [32, 48, 3, 3]   0.000199     0.0325\n",
      "   16                        model.3.bn.weight      True           32                 [32]       1.01     0.0294\n",
      "   17                          model.3.bn.bias      True           32                 [32]    0.00701     0.0112\n",
      "   18                      model.4.conv.weight      True         2592        [72, 4, 3, 3]   -0.00186     0.0985\n",
      "   19                        model.4.bn.weight      True           72                 [72]          1     0.0155\n",
      "   20                          model.4.bn.bias      True           72                 [72]     0.0021    0.00482\n",
      "   21                  model.5.0.conv.0.weight      True        23616      [328, 72, 1, 1]  -0.000157     0.0681\n",
      "   22                  model.5.0.conv.1.weight      True          328                [328]          1    0.00209\n",
      "   23                    model.5.0.conv.1.bias      True          328                [328]  -2.92e-05    0.00165\n",
      "   24                  model.5.0.conv.3.weight      True         8200       [328, 1, 5, 5]  -0.000595      0.116\n",
      "   25                  model.5.0.conv.4.weight      True          328                [328]          1    0.00544\n",
      "   26                    model.5.0.conv.4.bias      True          328                [328]   7.46e-05    0.00165\n",
      "   27                  model.5.0.conv.7.weight      True         5248      [16, 328, 1, 1]  -0.000488     0.0384\n",
      "   28                  model.5.0.conv.8.weight      True           16                 [16]          1     0.0244\n",
      "   29                    model.5.0.conv.8.bias      True           16                 [16]    -0.0016    0.00772\n",
      "   30                      model.6.conv.weight      True         9216       [64, 16, 3, 3]    0.00155     0.0504\n",
      "   31                        model.6.bn.weight      True           64                 [64]          1     0.0109\n",
      "   32                          model.6.bn.bias      True           64                 [64]     0.0031     0.0109\n",
      "   33                  model.7.0.conv.0.weight      True         6144       [96, 64, 1, 1]  -0.000737     0.0738\n",
      "   34                  model.7.0.conv.1.weight      True           96                 [96]          1   4.46e-05\n",
      "   35                    model.7.0.conv.1.bias      True           96                 [96]    0.00227    0.00691\n",
      "   36                  model.7.0.conv.3.weight      True         2400        [96, 1, 5, 5]   -0.00216      0.115\n",
      "   37                  model.7.0.conv.4.weight      True           96                 [96]          1    0.00901\n",
      "   38                    model.7.0.conv.4.bias      True           96                 [96]    0.00348     0.0101\n",
      "   39                  model.7.0.conv.7.weight      True         4608       [48, 96, 1, 1]  -5.73e-05     0.0606\n",
      "   40                  model.7.0.conv.8.weight      True           48                 [48]          1     0.0105\n",
      "   41                    model.7.0.conv.8.bias      True           48                 [48]   3.57e-11   2.71e-09\n",
      "   42                      model.8.conv.weight      True         3072       [64, 48, 1, 1]  -0.000561     0.0842\n",
      "   43                        model.8.bn.weight      True           64                 [64]          1    0.00818\n",
      "   44                          model.8.bn.bias      True           64                 [64]    0.00438    0.00775\n",
      "   45                     model.10.conv.weight      True          384        [6, 64, 1, 1]     0.0196     0.0835\n",
      "   46                       model.10.bn.weight      True            6                  [6]          1      0.174\n",
      "   47                         model.10.bn.bias      True            6                  [6]   5.46e-08      0.881\n",
      "Model Summary: 67 layers, 84,180 parameters, 84,180 gradients\n",
      "idx |   n |     params |          module |            arguments |   in_channel |   out_channel\n",
      "----------------------------------------------------------------------------------------------\n",
      "  0 |   1 |        688 | InvertedResidualv3 | [3, 5.4, 48, 0, 1, 2] |            3           24\n",
      "  1 |   1 |        928 |          DWConv | [54, 3, 1, None, 'Hardswish'] |           24           32\n",
      "  2 |   1 |        960 |          DWConv | [93, 3, 1, None, 'Hardswish'] |           32           48\n",
      "  3 |   1 |     13,888 |            Conv | [63, 3, 2, None, 1, 'Hardswish'] |           48           32\n",
      "  4 |   1 |      2,736 |          DWConv | [144, 3, 1, None, 'Hardswish'] |           32           72\n",
      "  5 |   1 |     38,408 | InvertedResidualv3 | [5, 4.5, 32, 0, 1, 2] |           72           16\n",
      "  6 |   1 |      9,344 |            Conv | [125, 3, 2, None, 1, 'ReLU'] |           16           64\n",
      "  7 |   1 |     13,632 | InvertedResidualv3 | [5, 1.5, 88, 0, 0, 2] |           64           48\n",
      "  8 |   1 |      3,200 |            Conv |          [128, 1, 1] |           48           64\n",
      "  9 |   1 |          0 |   GlobalAvgPool |                   [] |           64           64\n",
      " 10 |   1 |        396 |       FixedConv | [6, 1, 1, None, 1, None] |           64            6\n",
      "Model Summary: 66 layers, 84,180 parameters, 84,180 gradients\n",
      "1\n",
      "2\n",
      "{'INPUT_SIZE': [32, 32], 'backbone': [[3, 'InvertedResidualv3', [3, 5.4, 48, 0, 1, 2]], [2, 'DWConv', [54, 3, 1, None, 'Hardswish']], [5, 'DWConv', [93, 3, 1, None, 'Hardswish']], [5, 'Conv', [63, 3, 2, None, 1, 'Hardswish']], [3, 'DWConv', [144, 3, 1, None, 'Hardswish']], [4, 'InvertedResidualv3', [5, 4.5, 32, 0, 1, 2]], [3, 'Conv', [125, 3, 2, None, 1, 'ReLU']], [1, 'InvertedResidualv3', [5, 1.5, 88, 0, 0, 2]], [1, 'Conv', [128, 1, 1]], [1, 'GlobalAvgPool', []], [1, 'FixedConv', [6, 1, 1, None, 1, None]]], 'depth_multiple': 0.25, 'input_channel': 3, 'width_multiple': 0.5}\n",
      "---------------------------------  ---------------  ---------------  ---------------  ---------------  ---------------  ---------------  ---------------  ---------------  ---------------  ---------------------------------------------  \n",
      "Name                               Self CPU total %  Self CPU total   CPU total %      CPU total        CPU time avg     CUDA total %     CUDA total       CUDA time avg    Number of Calls  Input Shapes                                   \n",
      "---------------------------------  ---------------  ---------------  ---------------  ---------------  ---------------  ---------------  ---------------  ---------------  ---------------  ---------------------------------------------  \n",
      "conv2d                             0.11%            11.561us         4.10%            429.576us        429.576us        1.23%            429.056us        429.056us        1                []                                             \n",
      "convolution                        0.13%            13.114us         3.99%            418.015us        418.015us        1.20%            417.792us        417.792us        1                []                                             \n",
      "_convolution                       0.54%            56.793us         3.86%            404.901us        404.901us        1.16%            405.504us        405.504us        1                []                                             \n",
      "size                               0.05%            5.327us          0.05%            5.327us          5.327us          0.01%            5.120us          5.120us          1                []                                             \n",
      "size                               0.05%            5.137us          0.05%            5.137us          5.137us          0.01%            5.120us          5.120us          1                []                                             \n",
      "size                               0.04%            4.563us          0.04%            4.563us          4.563us          0.01%            5.120us          5.120us          1                []                                             \n",
      "size                               0.04%            4.572us          0.04%            4.572us          4.572us          0.01%            4.096us          4.096us          1                []                                             \n",
      "size                               0.04%            4.682us          0.04%            4.682us          4.682us          0.01%            5.120us          5.120us          1                []                                             \n",
      "size                               0.04%            4.235us          0.04%            4.235us          4.235us          0.01%            4.096us          4.096us          1                []                                             \n",
      "contiguous                         0.05%            5.089us          0.05%            5.089us          5.089us          0.01%            5.120us          5.120us          1                []                                             \n",
      "cudnn_convolution                  1.88%            196.940us        3.00%            314.503us        314.503us        0.90%            314.368us        314.368us        1                []                                             \n",
      "empty                              0.08%            8.391us          0.08%            8.391us          8.391us          0.02%            8.192us          8.192us          1                []                                             \n",
      "contiguous                         0.04%            4.602us          0.04%            4.602us          4.602us          0.01%            4.096us          4.096us          1                []                                             \n",
      "resize_                            0.06%            6.048us          0.06%            6.048us          6.048us          0.02%            6.144us          6.144us          1                []                                             \n",
      "contiguous                         0.04%            4.263us          0.04%            4.263us          4.263us          0.01%            5.088us          5.088us          1                []                                             \n",
      "resize_                            0.04%            4.440us          0.04%            4.440us          4.440us          0.01%            5.120us          5.120us          1                []                                             \n",
      "size                               0.04%            4.566us          0.04%            4.566us          4.566us          0.01%            4.096us          4.096us          1                []                                             \n",
      "stride                             0.05%            5.620us          0.05%            5.620us          5.620us          0.02%            6.144us          6.144us          1                []                                             \n",
      "size                               0.04%            4.459us          0.04%            4.459us          4.459us          0.01%            4.096us          4.096us          1                []                                             \n",
      "size                               0.04%            4.646us          0.04%            4.646us          4.646us          0.01%            4.096us          4.096us          1                []                                             \n",
      "stride                             0.04%            4.404us          0.04%            4.404us          4.404us          0.01%            5.120us          5.120us          1                []                                             \n",
      "size                               0.06%            5.897us          0.06%            5.897us          5.897us          0.01%            5.120us          5.120us          1                []                                             \n",
      "size                               0.05%            5.183us          0.05%            5.183us          5.183us          0.02%            6.144us          6.144us          1                []                                             \n",
      "stride                             0.05%            4.754us          0.05%            4.754us          4.754us          0.01%            5.120us          5.120us          1                []                                             \n",
      "size                               0.04%            4.605us          0.04%            4.605us          4.605us          0.01%            5.120us          5.120us          1                []                                             \n",
      "size                               0.06%            5.775us          0.06%            5.775us          5.775us          0.01%            5.120us          5.120us          1                []                                             \n",
      "stride                             0.04%            4.579us          0.04%            4.579us          4.579us          0.01%            5.120us          5.120us          1                []                                             \n",
      "size                               0.04%            4.348us          0.04%            4.348us          4.348us          0.01%            4.096us          4.096us          1                []                                             \n",
      "size                               0.04%            4.667us          0.04%            4.667us          4.667us          0.01%            4.096us          4.096us          1                []                                             \n",
      "size                               0.06%            5.851us          0.06%            5.851us          5.851us          0.02%            6.176us          6.176us          1                []                                             \n",
      "size                               0.05%            4.753us          0.05%            4.753us          4.753us          0.01%            4.128us          4.128us          1                []                                             \n",
      "size                               0.05%            5.277us          0.05%            5.277us          5.277us          0.01%            5.120us          5.120us          1                []                                             \n",
      "empty                              0.10%            10.435us         0.10%            10.435us         10.435us         0.03%            10.240us         10.240us         1                []                                             \n",
      "batch_norm                         0.13%            13.903us         2.17%            227.147us        227.147us        0.65%            226.304us        226.304us        1                []                                             \n",
      "_batch_norm_impl_index             0.58%            60.894us         2.04%            213.244us        213.244us        0.61%            214.016us        214.016us        1                []                                             \n",
      "size                               0.15%            15.810us         0.15%            15.810us         15.810us         0.05%            16.384us         16.384us         1                []                                             \n",
      "size                               0.05%            5.085us          0.05%            5.085us          5.085us          0.02%            6.144us          6.144us          1                []                                             \n",
      "contiguous                         0.06%            5.938us          0.06%            5.938us          5.938us          0.01%            5.120us          5.120us          1                []                                             \n",
      "contiguous                         0.05%            5.574us          0.05%            5.574us          5.574us          0.01%            5.152us          5.152us          1                []                                             \n",
      "contiguous                         0.07%            7.150us          0.07%            7.150us          7.150us          0.02%            8.224us          8.224us          1                []                                             \n",
      "contiguous                         0.05%            4.869us          0.05%            4.869us          4.869us          0.01%            5.120us          5.120us          1                []                                             \n",
      "contiguous                         0.05%            5.416us          0.05%            5.416us          5.416us          0.01%            5.120us          5.120us          1                []                                             \n",
      "cudnn_batch_norm                   0.57%            59.967us         0.98%            102.508us        102.508us        0.29%            102.400us        102.400us        1                []                                             \n",
      "size                               0.06%            6.759us          0.06%            6.759us          6.759us          0.02%            7.200us          7.200us          1                []                                             \n",
      "empty_like                         0.11%            11.309us         0.18%            19.031us         19.031us         0.05%            18.432us         18.432us         1                []                                             \n",
      "empty                              0.07%            7.722us          0.07%            7.722us          7.722us          0.02%            8.192us          8.192us          1                []                                             \n",
      "view                               0.08%            8.587us          0.08%            8.587us          8.587us          0.02%            8.192us          8.192us          1                []                                             \n",
      "empty                              0.08%            8.164us          0.08%            8.164us          8.164us          0.02%            8.192us          8.192us          1                []                                             \n",
      "is_complex                         0.06%            5.940us          0.06%            5.940us          5.940us          0.01%            5.120us          5.120us          1                []                                             \n",
      "add                                0.41%            42.713us         0.48%            50.338us         50.338us         0.14%            49.152us         49.152us         1                []                                             \n",
      "empty                              0.07%            7.625us          0.07%            7.625us          7.625us          0.02%            8.192us          8.192us          1                []                                             \n",
      "hardtanh                           0.23%            24.136us         0.87%            90.912us         90.912us         0.26%            90.112us         90.112us         1                []                                             \n",
      "clamp                              0.17%            17.881us         0.64%            66.776us         66.776us         0.19%            66.560us         66.560us         1                []                                             \n",
      "empty                              0.07%            7.631us          0.07%            7.631us          7.631us          0.02%            8.224us          8.224us          1                []                                             \n",
      "clamp_out                          0.26%            27.537us         0.39%            41.264us         41.264us         0.12%            40.992us         40.992us         1                []                                             \n",
      "is_complex                         0.05%            5.157us          0.05%            5.157us          5.157us          0.01%            5.120us          5.120us          1                []                                             \n",
      "resize_                            0.08%            8.570us          0.08%            8.570us          8.570us          0.02%            8.192us          8.192us          1                []                                             \n",
      "is_complex                         0.05%            5.100us          0.05%            5.100us          5.100us          0.01%            4.096us          4.096us          1                []                                             \n",
      "div_                               0.27%            28.758us         0.27%            28.758us         28.758us         0.08%            28.704us         28.704us         1                []                                             \n",
      "mul                                0.31%            32.755us         0.39%            41.016us         41.016us         0.12%            40.960us         40.960us         1                []                                             \n",
      "empty                              0.08%            8.261us          0.08%            8.261us          8.261us          0.02%            8.192us          8.192us          1                []                                             \n",
      "conv2d                             0.11%            11.358us         1.90%            199.120us        199.120us        0.57%            198.656us        198.656us        1                []                                             \n",
      "convolution                        0.13%            13.763us         1.79%            187.762us        187.762us        0.54%            187.392us        187.392us        1                []                                             \n",
      "_convolution                       0.73%            76.175us         1.66%            173.999us        173.999us        0.50%            174.080us        174.080us        1                []                                             \n",
      "size                               0.05%            4.865us          0.05%            4.865us          4.865us          0.01%            5.120us          5.120us          1                []                                             \n",
      "size                               0.05%            5.244us          0.05%            5.244us          5.244us          0.01%            5.120us          5.120us          1                []                                             \n",
      "size                               0.05%            4.736us          0.05%            4.736us          4.736us          0.01%            4.064us          4.064us          1                []                                             \n",
      "size                               0.05%            5.597us          0.05%            5.597us          5.597us          0.01%            5.120us          5.120us          1                []                                             \n",
      "size                               0.05%            4.822us          0.05%            4.822us          4.822us          0.01%            5.120us          5.120us          1                []                                             \n",
      "size                               0.05%            5.075us          0.05%            5.075us          5.075us          0.01%            5.120us          5.120us          1                []                                             \n",
      "size                               0.05%            5.163us          0.05%            5.163us          5.163us          0.01%            5.120us          5.120us          1                []                                             \n",
      "size                               0.05%            5.617us          0.05%            5.617us          5.617us          0.01%            5.120us          5.120us          1                []                                             \n",
      "size                               0.05%            4.874us          0.05%            4.874us          4.874us          0.01%            5.120us          5.120us          1                []                                             \n",
      "contiguous                         0.06%            5.931us          0.06%            5.931us          5.931us          0.02%            6.144us          6.144us          1                []                                             \n",
      "thnn_conv_depthwise2d              0.13%            13.558us         0.44%            45.900us         45.900us         0.13%            46.080us         46.080us         1                []                                             \n",
      "thnn_conv_depthwise2d_forward      0.31%            32.342us         0.31%            32.342us         32.342us         0.09%            31.744us         31.744us         1                []                                             \n",
      "batch_norm                         0.12%            12.316us         2.34%            244.692us        244.692us        0.70%            244.736us        244.736us        1                []                                             \n",
      "_batch_norm_impl_index             0.85%            89.399us         2.22%            232.376us        232.376us        0.66%            232.448us        232.448us        1                []                                             \n",
      "size                               0.06%            6.010us          0.06%            6.010us          6.010us          0.01%            5.120us          5.120us          1                []                                             \n",
      "size                               0.05%            4.901us          0.05%            4.901us          4.901us          0.01%            4.096us          4.096us          1                []                                             \n",
      "contiguous                         0.06%            5.953us          0.06%            5.953us          5.953us          0.02%            6.144us          6.144us          1                []                                             \n",
      "contiguous                         0.05%            5.180us          0.05%            5.180us          5.180us          0.01%            5.152us          5.152us          1                []                                             \n",
      "contiguous                         0.10%            10.370us         0.10%            10.370us         10.370us         0.03%            11.264us         11.264us         1                []                                             \n",
      "contiguous                         0.04%            4.499us          0.04%            4.499us          4.499us          0.01%            5.120us          5.120us          1                []                                             \n",
      "contiguous                         0.04%            4.683us          0.04%            4.683us          4.683us          0.01%            5.088us          5.088us          1                []                                             \n",
      "cudnn_batch_norm                   0.61%            63.394us         0.97%            101.381us        101.381us        0.29%            101.376us        101.376us        1                []                                             \n",
      "size                               0.04%            4.553us          0.04%            4.553us          4.553us          0.01%            4.096us          4.096us          1                []                                             \n",
      "empty_like                         0.11%            11.831us         0.19%            19.500us         19.500us         0.05%            18.464us         18.464us         1                []                                             \n",
      "empty                              0.07%            7.669us          0.07%            7.669us          7.669us          0.02%            8.192us          8.192us          1                []                                             \n",
      "view                               0.08%            8.184us          0.08%            8.184us          8.184us          0.02%            7.200us          7.200us          1                []                                             \n",
      "empty                              0.05%            5.750us          0.05%            5.750us          5.750us          0.01%            5.120us          5.120us          1                []                                             \n",
      "is_complex                         0.06%            5.827us          0.06%            5.827us          5.827us          0.01%            5.120us          5.120us          1                []                                             \n",
      "add                                0.37%            38.565us         0.44%            46.413us         46.413us         0.13%            46.080us         46.080us         1                []                                             \n",
      "empty                              0.07%            7.848us          0.07%            7.848us          7.848us          0.02%            8.192us          8.192us          1                []                                             \n",
      "hardtanh                           0.21%            22.089us         0.83%            87.247us         87.247us         0.25%            87.040us         87.040us         1                []                                             \n",
      "clamp                              0.18%            19.193us         0.62%            65.158us         65.158us         0.19%            65.536us         65.536us         1                []                                             \n",
      "empty                              0.06%            6.160us          0.06%            6.160us          6.160us          0.02%            6.176us          6.176us          1                []                                             \n",
      "clamp_out                          0.25%            26.614us         0.38%            39.805us         39.805us         0.11%            39.936us         39.936us         1                []                                             \n",
      "is_complex                         0.05%            5.146us          0.05%            5.146us          5.146us          0.01%            5.120us          5.120us          1                []                                             \n",
      "resize_                            0.08%            8.045us          0.08%            8.045us          8.045us          0.02%            8.192us          8.192us          1                []                                             \n",
      "---------------------------------  ---------------  ---------------  ---------------  ---------------  ---------------  ---------------  ---------------  ---------------  ---------------  ---------------------------------------------  \n",
      "Self CPU time total: 10.476ms\n",
      "CUDA time total: 34.960ms\n",
      "\n",
      "measured time(ms) 2.533514658610026\n",
      "layer                                     name  gradient   parameters                shape         mu      sigma\n",
      "    0                  model.0.0.conv.0.weight      True           48        [16, 3, 1, 1]     -0.061       0.34\n",
      "    1                  model.0.0.conv.1.weight      True           16                 [16]          1          0\n",
      "    2                    model.0.0.conv.1.bias      True           16                 [16]          0          0\n",
      "    3                  model.0.0.conv.3.weight      True          144        [16, 1, 3, 3]    -0.0441      0.191\n",
      "    4                  model.0.0.conv.4.weight      True           16                 [16]          1          0\n",
      "    5                    model.0.0.conv.4.bias      True           16                 [16]          0          0\n",
      "    6                  model.0.0.conv.7.weight      True          384       [24, 16, 1, 1]     0.0107      0.145\n",
      "    7                  model.0.0.conv.8.weight      True           24                 [24]          1          0\n",
      "    8                    model.0.0.conv.8.bias      True           24                 [24]          0          0\n",
      "    9                      model.1.conv.weight      True          864        [32, 3, 3, 3]    0.00383      0.113\n",
      "   10                        model.1.bn.weight      True           32                 [32]          1          0\n",
      "   11                          model.1.bn.bias      True           32                 [32]          0          0\n",
      "   12                      model.2.conv.weight      True          864        [48, 2, 3, 3]   -0.00633      0.137\n",
      "   13                        model.2.bn.weight      True           48                 [48]          1          0\n",
      "   14                          model.2.bn.bias      True           48                 [48]          0          0\n",
      "   15                      model.3.conv.weight      True        13824       [32, 48, 3, 3]   0.000379     0.0277\n",
      "   16                        model.3.bn.weight      True           32                 [32]          1          0\n",
      "   17                          model.3.bn.bias      True           32                 [32]          0          0\n",
      "   18                      model.4.conv.weight      True         2592        [72, 4, 3, 3]   -0.00191     0.0952\n",
      "   19                        model.4.bn.weight      True           72                 [72]          1          0\n",
      "   20                          model.4.bn.bias      True           72                 [72]          0          0\n",
      "   21                  model.5.0.conv.0.weight      True        23616      [328, 72, 1, 1]  -0.000645     0.0681\n",
      "   22                  model.5.0.conv.1.weight      True          328                [328]          1          0\n",
      "   23                    model.5.0.conv.1.bias      True          328                [328]          0          0\n",
      "   24                  model.5.0.conv.3.weight      True         8200       [328, 1, 5, 5]   0.000683      0.115\n",
      "   25                  model.5.0.conv.4.weight      True          328                [328]          1          0\n",
      "   26                    model.5.0.conv.4.bias      True          328                [328]          0          0\n",
      "   27                  model.5.0.conv.7.weight      True         5248      [16, 328, 1, 1]  -0.000564     0.0316\n",
      "   28                  model.5.0.conv.8.weight      True           16                 [16]          1          0\n",
      "   29                    model.5.0.conv.8.bias      True           16                 [16]          0          0\n",
      "   30                      model.6.conv.weight      True         9216       [64, 16, 3, 3]   -0.00013      0.048\n",
      "   31                        model.6.bn.weight      True           64                 [64]          1          0\n",
      "   32                          model.6.bn.bias      True           64                 [64]          0          0\n",
      "   33                  model.7.0.conv.0.weight      True         6144       [96, 64, 1, 1]   -0.00143     0.0717\n",
      "   34                  model.7.0.conv.1.weight      True           96                 [96]          1          0\n",
      "   35                    model.7.0.conv.1.bias      True           96                 [96]          0          0\n",
      "   36                  model.7.0.conv.3.weight      True         2400        [96, 1, 5, 5]    0.00263      0.117\n",
      "   37                  model.7.0.conv.4.weight      True           96                 [96]          1          0\n",
      "   38                    model.7.0.conv.4.bias      True           96                 [96]          0          0\n",
      "   39                  model.7.0.conv.7.weight      True         4608       [48, 96, 1, 1]  -0.000155     0.0592\n",
      "   40                  model.7.0.conv.8.weight      True           48                 [48]          1          0\n",
      "   41                    model.7.0.conv.8.bias      True           48                 [48]          0          0\n",
      "   42                      model.8.conv.weight      True         3072       [64, 48, 1, 1]   -0.00274     0.0837\n",
      "   43                        model.8.bn.weight      True           64                 [64]          1          0\n",
      "   44                          model.8.bn.bias      True           64                 [64]          0          0\n",
      "   45                     model.10.conv.weight      True          384        [6, 64, 1, 1]    0.00751     0.0716\n",
      "   46                       model.10.bn.weight      True            6                  [6]          1          0\n",
      "   47                         model.10.bn.bias      True            6                  [6]          0          0\n",
      "Model Summary: 67 layers, 84,180 parameters, 84,180 gradients\n"
     ]
    },
    {
     "name": "stderr",
     "output_type": "stream",
     "text": [
      "Train: [001] Loss: 1.793, Acc: 26.56% F1(macro): 0.20: 100%|██████████| 146/146 [00:15<00:00,  9.36it/s]\n",
      " Val:       Loss: 1.727, Acc: 31.57% F1(macro): 0.21: 100%|██████████| 163/163 [00:27<00:00,  5.98it/s]\n"
     ]
    },
    {
     "name": "stdout",
     "output_type": "stream",
     "text": [
      "Model saved. Current best test f1: 0.210\n"
     ]
    },
    {
     "name": "stderr",
     "output_type": "stream",
     "text": [
      "Train: [002] Loss: 1.611, Acc: 36.88% F1(macro): 0.24: 100%|██████████| 146/146 [00:17<00:00,  8.55it/s]\n",
      " Val:       Loss: 1.570, Acc: 39.22% F1(macro): 0.19: 100%|██████████| 163/163 [00:25<00:00,  6.30it/s]\n",
      "Train: [003] Loss: 1.546, Acc: 38.12% F1(macro): 0.19: 100%|██████████| 146/146 [00:16<00:00,  8.88it/s]\n",
      " Val:       Loss: 1.496, Acc: 40.03% F1(macro): 0.19: 100%|██████████| 163/163 [00:26<00:00,  6.21it/s]\n",
      "Train: [004] Loss: 1.513, Acc: 39.60% F1(macro): 0.19: 100%|██████████| 146/146 [00:16<00:00,  8.68it/s]\n",
      " Val:       Loss: 1.574, Acc: 38.74% F1(macro): 0.18: 100%|██████████| 163/163 [00:26<00:00,  6.23it/s]\n",
      "Train: [005] Loss: 1.504, Acc: 40.03% F1(macro): 0.20: 100%|██████████| 146/146 [00:15<00:00,  9.27it/s]\n",
      " Val:       Loss: 1.459, Acc: 41.47% F1(macro): 0.20: 100%|██████████| 163/163 [00:26<00:00,  6.22it/s]\n",
      "Train: [006] Loss: 1.506, Acc: 39.43% F1(macro): 0.20: 100%|██████████| 146/146 [00:15<00:00,  9.71it/s]\n",
      " Val:       Loss: 1.436, Acc: 41.51% F1(macro): 0.25: 100%|██████████| 163/163 [00:25<00:00,  6.32it/s]\n"
     ]
    },
    {
     "name": "stdout",
     "output_type": "stream",
     "text": [
      "Model saved. Current best test f1: 0.253\n"
     ]
    },
    {
     "name": "stderr",
     "output_type": "stream",
     "text": [
      "Train: [007] Loss: 1.482, Acc: 40.97% F1(macro): 0.22: 100%|██████████| 146/146 [00:16<00:00,  9.04it/s]\n",
      " Val:       Loss: 1.471, Acc: 42.74% F1(macro): 0.21: 100%|██████████| 163/163 [00:25<00:00,  6.27it/s]\n",
      "Train: [008] Loss: 1.470, Acc: 42.14% F1(macro): 0.23: 100%|██████████| 146/146 [00:15<00:00,  9.36it/s]\n",
      " Val:       Loss: 1.430, Acc: 45.85% F1(macro): 0.30: 100%|██████████| 163/163 [00:27<00:00,  5.84it/s]\n"
     ]
    },
    {
     "name": "stdout",
     "output_type": "stream",
     "text": [
      "Model saved. Current best test f1: 0.296\n"
     ]
    },
    {
     "name": "stderr",
     "output_type": "stream",
     "text": [
      "Train: [009] Loss: 1.450, Acc: 43.32% F1(macro): 0.24: 100%|██████████| 146/146 [00:16<00:00,  8.98it/s]\n",
      " Val:       Loss: 1.328, Acc: 49.22% F1(macro): 0.33: 100%|██████████| 163/163 [00:25<00:00,  6.30it/s]\n"
     ]
    },
    {
     "name": "stdout",
     "output_type": "stream",
     "text": [
      "Model saved. Current best test f1: 0.333\n"
     ]
    },
    {
     "name": "stderr",
     "output_type": "stream",
     "text": [
      "Train: [010] Loss: 1.463, Acc: 41.74% F1(macro): 0.24: 100%|██████████| 146/146 [00:16<00:00,  9.06it/s]\n",
      " Val:       Loss: 1.387, Acc: 46.54% F1(macro): 0.28: 100%|██████████| 163/163 [00:28<00:00,  5.75it/s]\n",
      "Train: [011] Loss: 1.430, Acc: 44.76% F1(macro): 0.26: 100%|██████████| 146/146 [00:18<00:00,  8.07it/s]\n",
      " Val:       Loss: 1.363, Acc: 48.38% F1(macro): 0.35: 100%|██████████| 163/163 [00:26<00:00,  6.06it/s]\n"
     ]
    },
    {
     "name": "stdout",
     "output_type": "stream",
     "text": [
      "Model saved. Current best test f1: 0.346\n"
     ]
    },
    {
     "name": "stderr",
     "output_type": "stream",
     "text": [
      "Train: [012] Loss: 1.410, Acc: 45.83% F1(macro): 0.27: 100%|██████████| 146/146 [00:15<00:00,  9.59it/s]\n",
      " Val:       Loss: 1.331, Acc: 49.15% F1(macro): 0.36: 100%|██████████| 163/163 [00:27<00:00,  5.96it/s]\n"
     ]
    },
    {
     "name": "stdout",
     "output_type": "stream",
     "text": [
      "Model saved. Current best test f1: 0.364\n"
     ]
    },
    {
     "name": "stderr",
     "output_type": "stream",
     "text": [
      "Train: [013] Loss: 1.394, Acc: 46.47% F1(macro): 0.28: 100%|██████████| 146/146 [00:17<00:00,  8.37it/s]\n",
      " Val:       Loss: 1.374, Acc: 45.85% F1(macro): 0.27: 100%|██████████| 163/163 [00:26<00:00,  6.19it/s]\n",
      "Train: [014] Loss: 1.380, Acc: 47.80% F1(macro): 0.29: 100%|██████████| 146/146 [00:16<00:00,  9.11it/s]\n",
      " Val:       Loss: 1.313, Acc: 50.47% F1(macro): 0.36: 100%|██████████| 163/163 [00:29<00:00,  5.60it/s]\n",
      "Train: [015] Loss: 1.358, Acc: 48.50% F1(macro): 0.29: 100%|██████████| 146/146 [00:16<00:00,  9.08it/s]\n",
      " Val:       Loss: 1.317, Acc: 50.12% F1(macro): 0.35: 100%|██████████| 163/163 [00:25<00:00,  6.37it/s]\n",
      "Train: [016] Loss: 1.359, Acc: 48.54% F1(macro): 0.30: 100%|██████████| 146/146 [00:14<00:00, 10.18it/s]\n",
      " Val:       Loss: 1.328, Acc: 50.74% F1(macro): 0.32: 100%|██████████| 163/163 [00:24<00:00,  6.53it/s]\n",
      "Train: [017] Loss: 1.337, Acc: 48.78% F1(macro): 0.30: 100%|██████████| 146/146 [00:15<00:00,  9.54it/s]\n",
      " Val:       Loss: 1.295, Acc: 51.03% F1(macro): 0.31: 100%|██████████| 163/163 [00:26<00:00,  6.09it/s]\n",
      "Train: [018] Loss: 1.328, Acc: 49.66% F1(macro): 0.31: 100%|██████████| 146/146 [00:16<00:00,  8.95it/s]\n",
      " Val:       Loss: 1.253, Acc: 51.87% F1(macro): 0.38: 100%|██████████| 163/163 [00:25<00:00,  6.35it/s]\n"
     ]
    },
    {
     "name": "stdout",
     "output_type": "stream",
     "text": [
      "Model saved. Current best test f1: 0.376\n"
     ]
    },
    {
     "name": "stderr",
     "output_type": "stream",
     "text": [
      "Train: [019] Loss: 1.311, Acc: 50.24% F1(macro): 0.32: 100%|██████████| 146/146 [00:15<00:00,  9.49it/s]\n",
      " Val:       Loss: 1.322, Acc: 49.64% F1(macro): 0.32: 100%|██████████| 163/163 [00:27<00:00,  5.95it/s]\n",
      "Train: [020] Loss: 1.308, Acc: 50.41% F1(macro): 0.32: 100%|██████████| 146/146 [00:17<00:00,  8.51it/s]\n",
      " Val:       Loss: 1.270, Acc: 52.62% F1(macro): 0.40: 100%|██████████| 163/163 [00:25<00:00,  6.32it/s]\n"
     ]
    },
    {
     "name": "stdout",
     "output_type": "stream",
     "text": [
      "Model saved. Current best test f1: 0.402\n"
     ]
    },
    {
     "name": "stderr",
     "output_type": "stream",
     "text": [
      "Train: [021] Loss: 1.302, Acc: 50.39% F1(macro): 0.32: 100%|██████████| 146/146 [00:16<00:00,  9.11it/s]\n",
      " Val:       Loss: 1.233, Acc: 53.79% F1(macro): 0.39: 100%|██████████| 163/163 [00:30<00:00,  5.35it/s]\n",
      "Train: [022] Loss: 1.306, Acc: 50.15% F1(macro): 0.33: 100%|██████████| 146/146 [00:17<00:00,  8.34it/s]\n",
      " Val:       Loss: 1.230, Acc: 54.69% F1(macro): 0.40: 100%|██████████| 163/163 [00:26<00:00,  6.06it/s]\n"
     ]
    },
    {
     "name": "stdout",
     "output_type": "stream",
     "text": [
      "Model saved. Current best test f1: 0.403\n"
     ]
    },
    {
     "name": "stderr",
     "output_type": "stream",
     "text": [
      "Train: [023] Loss: 1.292, Acc: 50.79% F1(macro): 0.33: 100%|██████████| 146/146 [00:15<00:00,  9.61it/s]\n",
      " Val:       Loss: 1.216, Acc: 54.77% F1(macro): 0.41: 100%|██████████| 163/163 [00:27<00:00,  5.99it/s]\n"
     ]
    },
    {
     "name": "stdout",
     "output_type": "stream",
     "text": [
      "Model saved. Current best test f1: 0.408\n"
     ]
    },
    {
     "name": "stderr",
     "output_type": "stream",
     "text": [
      "Train: [024] Loss: 1.271, Acc: 52.72% F1(macro): 0.37: 100%|██████████| 146/146 [00:18<00:00,  7.78it/s]\n",
      " Val:       Loss: 1.205, Acc: 55.40% F1(macro): 0.43: 100%|██████████| 163/163 [00:25<00:00,  6.27it/s]\n"
     ]
    },
    {
     "name": "stdout",
     "output_type": "stream",
     "text": [
      "Model saved. Current best test f1: 0.428\n"
     ]
    },
    {
     "name": "stderr",
     "output_type": "stream",
     "text": [
      "Train: [025] Loss: 1.295, Acc: 51.73% F1(macro): 0.35: 100%|██████████| 146/146 [00:15<00:00,  9.53it/s]\n",
      " Val:       Loss: 1.267, Acc: 52.27% F1(macro): 0.34: 100%|██████████| 163/163 [00:27<00:00,  5.85it/s]\n",
      "Train: [026] Loss: 1.264, Acc: 52.27% F1(macro): 0.36: 100%|██████████| 146/146 [00:17<00:00,  8.15it/s]\n",
      " Val:       Loss: 1.230, Acc: 53.41% F1(macro): 0.42: 100%|██████████| 163/163 [00:25<00:00,  6.51it/s]\n",
      "Train: [027] Loss: 1.276, Acc: 51.11% F1(macro): 0.35: 100%|██████████| 146/146 [00:14<00:00,  9.95it/s]\n",
      " Val:       Loss: 1.201, Acc: 54.62% F1(macro): 0.42: 100%|██████████| 163/163 [00:27<00:00,  5.99it/s]\n",
      "Train: [028] Loss: 1.250, Acc: 53.00% F1(macro): 0.37: 100%|██████████| 146/146 [00:16<00:00,  9.09it/s]\n",
      " Val:       Loss: 1.191, Acc: 55.09% F1(macro): 0.38: 100%|██████████| 163/163 [00:26<00:00,  6.15it/s]\n",
      "Train: [029] Loss: 1.246, Acc: 52.44% F1(macro): 0.38: 100%|██████████| 146/146 [00:16<00:00,  9.04it/s]\n",
      " Val:       Loss: 1.165, Acc: 55.82% F1(macro): 0.43: 100%|██████████| 163/163 [00:25<00:00,  6.34it/s]\n"
     ]
    },
    {
     "name": "stdout",
     "output_type": "stream",
     "text": [
      "Model saved. Current best test f1: 0.435\n"
     ]
    },
    {
     "name": "stderr",
     "output_type": "stream",
     "text": [
      "Train: [030] Loss: 1.243, Acc: 53.02% F1(macro): 0.39: 100%|██████████| 146/146 [00:16<00:00,  8.94it/s]\n",
      " Val:       Loss: 1.175, Acc: 55.81% F1(macro): 0.45: 100%|██████████| 163/163 [00:25<00:00,  6.33it/s]\n"
     ]
    },
    {
     "name": "stdout",
     "output_type": "stream",
     "text": [
      "Model saved. Current best test f1: 0.447\n"
     ]
    },
    {
     "name": "stderr",
     "output_type": "stream",
     "text": [
      "Train: [031] Loss: 1.231, Acc: 53.04% F1(macro): 0.38: 100%|██████████| 146/146 [00:17<00:00,  8.40it/s]\n",
      " Val:       Loss: 1.245, Acc: 54.21% F1(macro): 0.37: 100%|██████████| 163/163 [00:25<00:00,  6.27it/s]\n",
      "Train: [032] Loss: 1.231, Acc: 53.57% F1(macro): 0.39: 100%|██████████| 146/146 [00:16<00:00,  8.64it/s]\n",
      " Val:       Loss: 1.177, Acc: 55.94% F1(macro): 0.44: 100%|██████████| 163/163 [00:27<00:00,  6.00it/s]\n",
      "Train: [033] Loss: 1.218, Acc: 53.87% F1(macro): 0.41: 100%|██████████| 146/146 [00:16<00:00,  8.94it/s]\n",
      " Val:       Loss: 1.147, Acc: 57.21% F1(macro): 0.46: 100%|██████████| 163/163 [00:25<00:00,  6.32it/s]\n"
     ]
    },
    {
     "name": "stdout",
     "output_type": "stream",
     "text": [
      "Model saved. Current best test f1: 0.462\n"
     ]
    },
    {
     "name": "stderr",
     "output_type": "stream",
     "text": [
      "Train: [034] Loss: 1.213, Acc: 54.17% F1(macro): 0.41: 100%|██████████| 146/146 [00:15<00:00,  9.60it/s]\n",
      " Val:       Loss: 1.131, Acc: 57.55% F1(macro): 0.46: 100%|██████████| 163/163 [00:28<00:00,  5.68it/s]\n",
      "Train: [035] Loss: 1.211, Acc: 53.15% F1(macro): 0.39: 100%|██████████| 146/146 [00:16<00:00,  8.68it/s]\n",
      " Val:       Loss: 1.127, Acc: 57.47% F1(macro): 0.48: 100%|██████████| 163/163 [00:26<00:00,  6.06it/s]\n"
     ]
    },
    {
     "name": "stdout",
     "output_type": "stream",
     "text": [
      "Model saved. Current best test f1: 0.479\n"
     ]
    },
    {
     "name": "stderr",
     "output_type": "stream",
     "text": [
      "Train: [036] Loss: 1.200, Acc: 54.75% F1(macro): 0.41: 100%|██████████| 146/146 [00:14<00:00,  9.81it/s]\n",
      " Val:       Loss: 1.126, Acc: 58.30% F1(macro): 0.46: 100%|██████████| 163/163 [00:26<00:00,  6.06it/s]\n",
      "Train: [037] Loss: 1.196, Acc: 55.16% F1(macro): 0.43: 100%|██████████| 146/146 [00:15<00:00,  9.39it/s]\n",
      " Val:       Loss: 1.140, Acc: 57.53% F1(macro): 0.47: 100%|██████████| 163/163 [00:24<00:00,  6.56it/s]\n",
      "Train: [038] Loss: 1.184, Acc: 56.06% F1(macro): 0.44: 100%|██████████| 146/146 [00:15<00:00,  9.54it/s]\n",
      " Val:       Loss: 1.112, Acc: 59.01% F1(macro): 0.49: 100%|██████████| 163/163 [00:27<00:00,  5.87it/s]\n"
     ]
    },
    {
     "name": "stdout",
     "output_type": "stream",
     "text": [
      "Model saved. Current best test f1: 0.490\n"
     ]
    },
    {
     "name": "stderr",
     "output_type": "stream",
     "text": [
      "Train: [039] Loss: 1.147, Acc: 57.45% F1(macro): 0.45: 100%|██████████| 146/146 [00:17<00:00,  8.23it/s]\n",
      " Val:       Loss: 1.105, Acc: 58.63% F1(macro): 0.48: 100%|██████████| 163/163 [00:26<00:00,  6.14it/s]\n",
      "Train: [040] Loss: 1.156, Acc: 56.31% F1(macro): 0.43: 100%|██████████| 146/146 [00:15<00:00,  9.50it/s]\n",
      " Val:       Loss: 1.128, Acc: 57.97% F1(macro): 0.50: 100%|██████████| 163/163 [00:27<00:00,  5.94it/s]\n"
     ]
    },
    {
     "name": "stdout",
     "output_type": "stream",
     "text": [
      "Model saved. Current best test f1: 0.505\n"
     ]
    },
    {
     "name": "stderr",
     "output_type": "stream",
     "text": [
      "Train: [041] Loss: 1.136, Acc: 57.81% F1(macro): 0.45: 100%|██████████| 146/146 [00:16<00:00,  8.63it/s]\n",
      " Val:       Loss: 1.089, Acc: 59.14% F1(macro): 0.50: 100%|██████████| 163/163 [00:26<00:00,  6.09it/s]\n",
      "Train: [042] Loss: 1.143, Acc: 57.86% F1(macro): 0.46: 100%|██████████| 146/146 [00:16<00:00,  8.95it/s]\n",
      " Val:       Loss: 1.089, Acc: 59.47% F1(macro): 0.48: 100%|██████████| 163/163 [00:27<00:00,  5.97it/s]\n",
      "Train: [043] Loss: 1.128, Acc: 56.89% F1(macro): 0.45: 100%|██████████| 146/146 [00:15<00:00,  9.27it/s]\n",
      " Val:       Loss: 1.073, Acc: 59.87% F1(macro): 0.50: 100%|██████████| 163/163 [00:25<00:00,  6.28it/s]\n",
      "Train: [044] Loss: 1.136, Acc: 57.77% F1(macro): 0.46: 100%|██████████| 146/146 [00:17<00:00,  8.28it/s]\n",
      " Val:       Loss: 1.080, Acc: 59.45% F1(macro): 0.47: 100%|██████████| 163/163 [00:26<00:00,  6.21it/s]\n",
      "Train: [045] Loss: 1.116, Acc: 58.11% F1(macro): 0.47: 100%|██████████| 146/146 [00:15<00:00,  9.33it/s]\n",
      " Val:       Loss: 1.080, Acc: 60.31% F1(macro): 0.51: 100%|██████████| 163/163 [00:27<00:00,  5.86it/s]\n"
     ]
    },
    {
     "name": "stdout",
     "output_type": "stream",
     "text": [
      "Model saved. Current best test f1: 0.513\n"
     ]
    },
    {
     "name": "stderr",
     "output_type": "stream",
     "text": [
      "Train: [046] Loss: 1.090, Acc: 59.40% F1(macro): 0.49: 100%|██████████| 146/146 [00:16<00:00,  8.73it/s]\n",
      " Val:       Loss: 1.068, Acc: 60.53% F1(macro): 0.51: 100%|██████████| 163/163 [00:26<00:00,  6.20it/s]\n",
      "Train: [047] Loss: 1.106, Acc: 58.65% F1(macro): 0.48: 100%|██████████| 146/146 [00:14<00:00,  9.93it/s]\n",
      " Val:       Loss: 1.059, Acc: 60.53% F1(macro): 0.50: 100%|██████████| 163/163 [00:26<00:00,  6.08it/s]\n",
      "Train: [048] Loss: 1.086, Acc: 59.01% F1(macro): 0.48: 100%|██████████| 146/146 [00:15<00:00,  9.36it/s]\n",
      " Val:       Loss: 1.059, Acc: 60.70% F1(macro): 0.51: 100%|██████████| 163/163 [00:24<00:00,  6.53it/s]\n",
      "Train: [049] Loss: 1.089, Acc: 59.14% F1(macro): 0.49: 100%|██████████| 146/146 [00:15<00:00,  9.30it/s]\n",
      " Val:       Loss: 1.058, Acc: 60.53% F1(macro): 0.51: 100%|██████████| 163/163 [00:30<00:00,  5.30it/s]\n",
      "Train: [050] Loss: 1.085, Acc: 59.63% F1(macro): 0.49: 100%|██████████| 146/146 [00:17<00:00,  8.23it/s]\n",
      " Val:       Loss: 1.055, Acc: 60.35% F1(macro): 0.51: 100%|██████████| 163/163 [00:26<00:00,  6.25it/s]\n"
     ]
    },
    {
     "name": "stdout",
     "output_type": "stream",
     "text": [
      "Model saved. Current best test f1: 0.514\n"
     ]
    },
    {
     "name": "stderr",
     "output_type": "stream",
     "text": [
      " Val:       Loss: 1.055, Acc: 60.35% F1(macro): 0.51: 100%|██████████| 163/163 [00:26<00:00,  6.24it/s]\n",
      "\u001b[32m[I 2021-11-29 07:03:26,111]\u001b[0m Trial 2 finished with values: [0.5143101400673832, 84180.0, 2.533514658610026] and parameters: {'n_select': 0, 'batch_size': 32, 'optimizer': 'AdamW', 'scheduler': 'linear'}. \u001b[0m\n"
     ]
    },
    {
     "name": "stdout",
     "output_type": "stream",
     "text": [
      "layer                                     name  gradient   parameters                shape         mu      sigma\n",
      "    0                  model.0.0.conv.0.weight      True           48        [16, 3, 1, 1]     -0.104      0.498\n",
      "    1                  model.0.0.conv.1.weight      True           16                 [16]      0.995      0.538\n",
      "    2                    model.0.0.conv.1.bias      True           16                 [16]      0.114      0.431\n",
      "    3                  model.0.0.conv.3.weight      True          144        [16, 1, 3, 3]    -0.0183      0.376\n",
      "    4                  model.0.0.conv.4.weight      True           16                 [16]       1.23      0.508\n",
      "    5                    model.0.0.conv.4.bias      True           16                 [16]      0.509      0.951\n",
      "    6                  model.0.0.conv.7.weight      True          384       [24, 16, 1, 1]     0.0156       0.32\n",
      "    7                  model.0.0.conv.8.weight      True           24                 [24]      0.994      0.361\n",
      "    8                    model.0.0.conv.8.bias      True           24                 [24]      0.237      0.529\n",
      "    9                      model.1.conv.weight      True          864        [32, 3, 3, 3]   -0.00106      0.272\n",
      "   10                        model.1.bn.weight      True           32                 [32]       1.22       0.55\n",
      "   11                          model.1.bn.bias      True           32                 [32]      0.332      0.875\n",
      "   12                      model.2.conv.weight      True          864        [48, 2, 3, 3]     -0.034      0.295\n",
      "   13                        model.2.bn.weight      True           48                 [48]       1.31      0.737\n",
      "   14                          model.2.bn.bias      True           48                 [48]     -0.596      0.428\n",
      "   15                      model.3.conv.weight      True        13824       [32, 48, 3, 3]    -0.0153       0.15\n",
      "   16                        model.3.bn.weight      True           32                 [32]       1.27      0.312\n",
      "   17                          model.3.bn.bias      True           32                 [32]     0.0136       0.44\n",
      "   18                      model.4.conv.weight      True         2592        [72, 4, 3, 3]   -0.00816       0.26\n",
      "   19                        model.4.bn.weight      True           72                 [72]       1.16      0.271\n",
      "   20                          model.4.bn.bias      True           72                 [72]     -0.135      0.332\n",
      "   21                  model.5.0.conv.0.weight      True        23616      [328, 72, 1, 1]    -0.0152      0.197\n",
      "   22                  model.5.0.conv.1.weight      True          328                [328]       1.27      0.315\n",
      "   23                    model.5.0.conv.1.bias      True          328                [328]     -0.256      0.405\n",
      "   24                  model.5.0.conv.3.weight      True         8200       [328, 1, 5, 5]    -0.0421      0.251\n",
      "   25                  model.5.0.conv.4.weight      True          328                [328]       1.08       0.32\n",
      "   26                    model.5.0.conv.4.bias      True          328                [328]     -0.498      0.257\n",
      "   27                  model.5.0.conv.7.weight      True         5248      [16, 328, 1, 1]    -0.0107      0.158\n",
      "   28                  model.5.0.conv.8.weight      True           16                 [16]       1.04      0.149\n",
      "   29                    model.5.0.conv.8.bias      True           16                 [16]     0.0736      0.194\n",
      "   30                      model.6.conv.weight      True         9216       [64, 16, 3, 3]   -0.00995      0.151\n",
      "   31                        model.6.bn.weight      True           64                 [64]       1.05      0.178\n",
      "   32                          model.6.bn.bias      True           64                 [64]     0.0779      0.224\n",
      "   33                  model.7.0.conv.0.weight      True         6144       [96, 64, 1, 1]    -0.0134      0.209\n",
      "   34                  model.7.0.conv.1.weight      True           96                 [96]       1.26      0.517\n",
      "   35                    model.7.0.conv.1.bias      True           96                 [96]     0.0654      0.299\n",
      "   36                  model.7.0.conv.3.weight      True         2400        [96, 1, 5, 5]    -0.0175      0.306\n",
      "   37                  model.7.0.conv.4.weight      True           96                 [96]       1.06       0.27\n",
      "   38                    model.7.0.conv.4.bias      True           96                 [96]    -0.0637       0.35\n",
      "   39                  model.7.0.conv.7.weight      True         4608       [48, 96, 1, 1]   0.000702      0.195\n",
      "   40                  model.7.0.conv.8.weight      True           48                 [48]       1.01      0.189\n",
      "   41                    model.7.0.conv.8.bias      True           48                 [48]    0.00485     0.0174\n",
      "   42                      model.8.conv.weight      True         3072       [64, 48, 1, 1]   -0.00944      0.216\n",
      "   43                        model.8.bn.weight      True           64                 [64]      0.997      0.221\n",
      "   44                          model.8.bn.bias      True           64                 [64]      0.214      0.351\n",
      "   45                     model.10.conv.weight      True          384        [6, 64, 1, 1]     0.0301      0.283\n",
      "   46                       model.10.bn.weight      True            6                  [6]       1.15      0.317\n",
      "   47                         model.10.bn.bias      True            6                  [6]     -0.165      0.919\n",
      "Model Summary: 67 layers, 84,180 parameters, 84,180 gradients\n",
      "idx |   n |     params |          module |            arguments |   in_channel |   out_channel\n",
      "----------------------------------------------------------------------------------------------\n",
      "  0 |   1 |        688 | InvertedResidualv3 | [3, 5.4, 48, 0, 1, 2] |            3           24\n",
      "  1 |   1 |        928 |          DWConv | [54, 3, 1, None, 'Hardswish'] |           24           32\n",
      "  2 |   1 |        960 |          DWConv | [93, 3, 1, None, 'Hardswish'] |           32           48\n",
      "  3 |   1 |     13,888 |            Conv | [63, 3, 2, None, 1, 'Hardswish'] |           48           32\n",
      "  4 |   1 |      2,736 |          DWConv | [144, 3, 1, None, 'Hardswish'] |           32           72\n",
      "  5 |   1 |     38,408 | InvertedResidualv3 | [5, 4.5, 32, 0, 1, 2] |           72           16\n",
      "  6 |   1 |      9,344 |            Conv | [125, 3, 2, None, 1, 'ReLU'] |           16           64\n",
      "  7 |   1 |     13,632 | InvertedResidualv3 | [5, 1.5, 88, 0, 0, 2] |           64           48\n",
      "  8 |   1 |      3,200 |            Conv |          [128, 1, 1] |           48           64\n",
      "  9 |   1 |          0 |   GlobalAvgPool |                   [] |           64           64\n",
      " 10 |   1 |        396 |       FixedConv | [6, 1, 1, None, 1, None] |           64            6\n",
      "Model Summary: 66 layers, 84,180 parameters, 84,180 gradients\n",
      "1\n",
      "2\n",
      "3\n",
      "{'INPUT_SIZE': [32, 32], 'backbone': [[3, 'InvertedResidualv3', [3, 5.4, 48, 0, 1, 2]], [2, 'DWConv', [54, 3, 1, None, 'Hardswish']], [5, 'DWConv', [93, 3, 1, None, 'Hardswish']], [5, 'Conv', [63, 3, 2, None, 1, 'Hardswish']], [3, 'DWConv', [144, 3, 1, None, 'Hardswish']], [4, 'InvertedResidualv3', [5, 4.5, 32, 0, 1, 2]], [3, 'Conv', [125, 3, 2, None, 1, 'ReLU']], [1, 'InvertedResidualv3', [5, 1.5, 88, 0, 0, 2]], [1, 'Conv', [128, 1, 1]], [1, 'GlobalAvgPool', []], [1, 'FixedConv', [6, 1, 1, None, 1, None]]], 'depth_multiple': 0.25, 'input_channel': 3, 'width_multiple': 0.5}\n",
      "---------------------------------  ---------------  ---------------  ---------------  ---------------  ---------------  ---------------  ---------------  ---------------  ---------------  ---------------------------------------------  \n",
      "Name                               Self CPU total %  Self CPU total   CPU total %      CPU total        CPU time avg     CUDA total %     CUDA total       CUDA time avg    Number of Calls  Input Shapes                                   \n",
      "---------------------------------  ---------------  ---------------  ---------------  ---------------  ---------------  ---------------  ---------------  ---------------  ---------------  ---------------------------------------------  \n",
      "conv2d                             0.12%            11.977us         4.09%            405.060us        405.060us        1.22%            404.480us        404.480us        1                []                                             \n",
      "convolution                        0.12%            12.280us         3.97%            393.083us        393.083us        1.19%            393.216us        393.216us        1                []                                             \n",
      "_convolution                       0.54%            53.849us         3.85%            380.803us        380.803us        1.15%            380.928us        380.928us        1                []                                             \n",
      "size                               0.05%            5.317us          0.05%            5.317us          5.317us          0.02%            5.120us          5.120us          1                []                                             \n",
      "size                               0.06%            5.728us          0.06%            5.728us          5.728us          0.02%            5.120us          5.120us          1                []                                             \n",
      "size                               0.04%            3.960us          0.04%            3.960us          3.960us          0.01%            4.096us          4.096us          1                []                                             \n",
      "size                               0.04%            3.768us          0.04%            3.768us          3.768us          0.01%            4.096us          4.096us          1                []                                             \n",
      "size                               0.04%            4.155us          0.04%            4.155us          4.155us          0.01%            4.096us          4.096us          1                []                                             \n",
      "size                               0.04%            4.141us          0.04%            4.141us          4.141us          0.01%            4.096us          4.096us          1                []                                             \n",
      "contiguous                         0.05%            4.981us          0.05%            4.981us          4.981us          0.02%            5.120us          5.120us          1                []                                             \n",
      "cudnn_convolution                  1.86%            184.285us        2.98%            294.904us        294.904us        0.89%            294.912us        294.912us        1                []                                             \n",
      "empty                              0.09%            8.775us          0.09%            8.775us          8.775us          0.03%            9.216us          9.216us          1                []                                             \n",
      "contiguous                         0.05%            4.681us          0.05%            4.681us          4.681us          0.01%            4.096us          4.096us          1                []                                             \n",
      "resize_                            0.06%            5.847us          0.06%            5.847us          5.847us          0.02%            6.144us          6.144us          1                []                                             \n",
      "contiguous                         0.04%            4.338us          0.04%            4.338us          4.338us          0.01%            4.096us          4.096us          1                []                                             \n",
      "resize_                            0.05%            4.614us          0.05%            4.614us          4.614us          0.01%            4.096us          4.096us          1                []                                             \n",
      "size                               0.04%            4.336us          0.04%            4.336us          4.336us          0.01%            4.128us          4.128us          1                []                                             \n",
      "stride                             0.06%            5.886us          0.06%            5.886us          5.886us          0.02%            6.144us          6.144us          1                []                                             \n",
      "size                               0.04%            4.454us          0.04%            4.454us          4.454us          0.01%            4.128us          4.128us          1                []                                             \n",
      "size                               0.04%            4.038us          0.04%            4.038us          4.038us          0.01%            4.096us          4.096us          1                []                                             \n",
      "stride                             0.04%            4.027us          0.04%            4.027us          4.027us          0.01%            4.096us          4.096us          1                []                                             \n",
      "size                               0.05%            5.319us          0.05%            5.319us          5.319us          0.02%            5.120us          5.120us          1                []                                             \n",
      "size                               0.04%            4.018us          0.04%            4.018us          4.018us          0.01%            4.096us          4.096us          1                []                                             \n",
      "stride                             0.05%            4.838us          0.05%            4.838us          4.838us          0.01%            4.096us          4.096us          1                []                                             \n",
      "size                               0.05%            4.509us          0.05%            4.509us          4.509us          0.02%            5.120us          5.120us          1                []                                             \n",
      "size                               0.06%            5.611us          0.06%            5.611us          5.611us          0.02%            6.144us          6.144us          1                []                                             \n",
      "stride                             0.04%            4.162us          0.04%            4.162us          4.162us          0.01%            4.096us          4.096us          1                []                                             \n",
      "size                               0.04%            4.143us          0.04%            4.143us          4.143us          0.01%            4.096us          4.096us          1                []                                             \n",
      "size                               0.05%            4.789us          0.05%            4.789us          4.789us          0.02%            5.120us          5.120us          1                []                                             \n",
      "size                               0.06%            5.881us          0.06%            5.881us          5.881us          0.02%            6.144us          6.144us          1                []                                             \n",
      "size                               0.05%            4.571us          0.05%            4.571us          4.571us          0.02%            5.120us          5.120us          1                []                                             \n",
      "size                               0.04%            4.266us          0.04%            4.266us          4.266us          0.02%            5.120us          5.120us          1                []                                             \n",
      "empty                              0.08%            7.516us          0.08%            7.516us          7.516us          0.02%            7.168us          7.168us          1                []                                             \n",
      "batch_norm                         0.13%            12.424us         1.96%            194.040us        194.040us        0.59%            194.560us        194.560us        1                []                                             \n",
      "_batch_norm_impl_index             0.48%            47.931us         1.83%            181.616us        181.616us        0.55%            181.248us        181.248us        1                []                                             \n",
      "size                               0.05%            5.296us          0.05%            5.296us          5.296us          0.02%            5.120us          5.120us          1                []                                             \n",
      "size                               0.05%            4.534us          0.05%            4.534us          4.534us          0.02%            5.120us          5.120us          1                []                                             \n",
      "contiguous                         0.05%            5.197us          0.05%            5.197us          5.197us          0.02%            5.152us          5.152us          1                []                                             \n",
      "contiguous                         0.05%            4.962us          0.05%            4.962us          4.962us          0.02%            5.120us          5.120us          1                []                                             \n",
      "contiguous                         0.06%            6.183us          0.06%            6.183us          6.183us          0.02%            6.144us          6.144us          1                []                                             \n",
      "contiguous                         0.05%            5.014us          0.05%            5.014us          5.014us          0.02%            5.120us          5.120us          1                []                                             \n",
      "contiguous                         0.05%            4.610us          0.05%            4.610us          4.610us          0.01%            4.096us          4.096us          1                []                                             \n",
      "cudnn_batch_norm                   0.59%            58.553us         0.99%            97.889us         97.889us         0.29%            97.280us         97.280us         1                []                                             \n",
      "size                               0.05%            5.212us          0.05%            5.212us          5.212us          0.02%            5.120us          5.120us          1                []                                             \n",
      "empty_like                         0.11%            11.027us         0.19%            18.709us         18.709us         0.06%            18.432us         18.432us         1                []                                             \n",
      "empty                              0.08%            7.682us          0.08%            7.682us          7.682us          0.02%            8.192us          8.192us          1                []                                             \n",
      "view                               0.09%            8.938us          0.09%            8.938us          8.938us          0.03%            9.216us          9.216us          1                []                                             \n",
      "empty                              0.07%            6.477us          0.07%            6.477us          6.477us          0.02%            6.144us          6.144us          1                []                                             \n",
      "is_complex                         0.06%            5.666us          0.06%            5.666us          5.666us          0.02%            5.120us          5.120us          1                []                                             \n",
      "add                                0.43%            42.964us         0.51%            50.293us         50.293us         0.15%            50.176us         50.176us         1                []                                             \n",
      "empty                              0.07%            7.329us          0.07%            7.329us          7.329us          0.02%            7.168us          7.168us          1                []                                             \n",
      "hardtanh                           0.24%            23.971us         0.92%            91.402us         91.402us         0.28%            91.136us         91.136us         1                []                                             \n",
      "clamp                              0.19%            18.883us         0.68%            67.431us         67.431us         0.20%            67.584us         67.584us         1                []                                             \n",
      "empty                              0.06%            5.873us          0.06%            5.873us          5.873us          0.02%            6.144us          6.144us          1                []                                             \n",
      "clamp_out                          0.28%            27.330us         0.43%            42.675us         42.675us         0.13%            44.032us         44.032us         1                []                                             \n",
      "is_complex                         0.06%            5.605us          0.06%            5.605us          5.605us          0.02%            5.120us          5.120us          1                []                                             \n",
      "resize_                            0.10%            9.740us          0.10%            9.740us          9.740us          0.03%            9.216us          9.216us          1                []                                             \n",
      "is_complex                         0.06%            5.516us          0.06%            5.516us          5.516us          0.02%            5.120us          5.120us          1                []                                             \n",
      "div_                               0.31%            30.632us         0.31%            30.632us         30.632us         0.09%            30.720us         30.720us         1                []                                             \n",
      "mul                                0.34%            33.203us         0.41%            40.437us         40.437us         0.12%            39.936us         39.936us         1                []                                             \n",
      "empty                              0.07%            7.234us          0.07%            7.234us          7.234us          0.02%            7.168us          7.168us          1                []                                             \n",
      "conv2d                             0.14%            13.436us         1.98%            196.322us        196.322us        0.59%            196.608us        196.608us        1                []                                             \n",
      "convolution                        0.12%            11.948us         1.85%            182.886us        182.886us        0.55%            182.272us        182.272us        1                []                                             \n",
      "_convolution                       0.73%            72.742us         1.73%            170.938us        170.938us        0.52%            171.008us        171.008us        1                []                                             \n",
      "size                               0.06%            5.474us          0.06%            5.474us          5.474us          0.02%            5.120us          5.120us          1                []                                             \n",
      "size                               0.05%            5.146us          0.05%            5.146us          5.146us          0.02%            5.120us          5.120us          1                []                                             \n",
      "size                               0.06%            5.646us          0.06%            5.646us          5.646us          0.02%            5.120us          5.120us          1                []                                             \n",
      "size                               0.05%            5.365us          0.05%            5.365us          5.365us          0.02%            5.120us          5.120us          1                []                                             \n",
      "size                               0.05%            4.769us          0.05%            4.769us          4.769us          0.01%            4.096us          4.096us          1                []                                             \n",
      "size                               0.05%            4.958us          0.05%            4.958us          4.958us          0.02%            5.120us          5.120us          1                []                                             \n",
      "size                               0.06%            5.561us          0.06%            5.561us          5.561us          0.02%            5.120us          5.120us          1                []                                             \n",
      "size                               0.06%            6.198us          0.06%            6.198us          6.198us          0.02%            6.144us          6.144us          1                []                                             \n",
      "size                               0.05%            5.060us          0.05%            5.060us          5.060us          0.02%            5.120us          5.120us          1                []                                             \n",
      "contiguous                         0.05%            5.250us          0.05%            5.250us          5.250us          0.02%            5.120us          5.120us          1                []                                             \n",
      "thnn_conv_depthwise2d              0.13%            12.392us         0.45%            44.769us         44.769us         0.14%            45.056us         45.056us         1                []                                             \n",
      "thnn_conv_depthwise2d_forward      0.33%            32.377us         0.33%            32.377us         32.377us         0.10%            32.768us         32.768us         1                []                                             \n",
      "batch_norm                         0.13%            12.522us         1.97%            194.780us        194.780us        0.59%            193.536us        193.536us        1                []                                             \n",
      "_batch_norm_impl_index             0.49%            48.083us         1.84%            182.258us        182.258us        0.55%            182.272us        182.272us        1                []                                             \n",
      "size                               0.06%            6.346us          0.06%            6.346us          6.346us          0.02%            5.120us          5.120us          1                []                                             \n",
      "size                               0.06%            5.449us          0.06%            5.449us          5.449us          0.01%            4.096us          4.096us          1                []                                             \n",
      "contiguous                         0.06%            5.982us          0.06%            5.982us          5.982us          0.02%            6.144us          6.144us          1                []                                             \n",
      "contiguous                         0.06%            5.453us          0.06%            5.453us          5.453us          0.02%            6.144us          6.144us          1                []                                             \n",
      "contiguous                         0.05%            4.689us          0.05%            4.689us          4.689us          0.02%            5.120us          5.120us          1                []                                             \n",
      "contiguous                         0.05%            4.987us          0.05%            4.987us          4.987us          0.01%            4.096us          4.096us          1                []                                             \n",
      "contiguous                         0.05%            4.934us          0.05%            4.934us          4.934us          0.02%            5.120us          5.120us          1                []                                             \n",
      "cudnn_batch_norm                   0.60%            59.562us         0.97%            96.335us         96.335us         0.29%            96.256us         96.256us         1                []                                             \n",
      "size                               0.05%            4.912us          0.05%            4.912us          4.912us          0.02%            5.120us          5.120us          1                []                                             \n",
      "empty_like                         0.11%            11.206us         0.19%            18.872us         18.872us         0.06%            19.456us         19.456us         1                []                                             \n",
      "empty                              0.08%            7.666us          0.08%            7.666us          7.666us          0.02%            8.192us          8.192us          1                []                                             \n",
      "view                               0.07%            6.946us          0.07%            6.946us          6.946us          0.02%            7.168us          7.168us          1                []                                             \n",
      "empty                              0.06%            6.043us          0.06%            6.043us          6.043us          0.02%            5.120us          5.120us          1                []                                             \n",
      "is_complex                         0.05%            5.288us          0.05%            5.288us          5.288us          0.02%            5.120us          5.120us          1                []                                             \n",
      "add                                0.38%            37.240us         0.45%            44.073us         44.073us         0.13%            44.032us         44.032us         1                []                                             \n",
      "empty                              0.07%            6.833us          0.07%            6.833us          6.833us          0.02%            7.168us          7.168us          1                []                                             \n",
      "hardtanh                           0.20%            20.128us         0.84%            82.841us         82.841us         0.25%            82.944us         82.944us         1                []                                             \n",
      "clamp                              0.18%            17.775us         0.63%            62.713us         62.713us         0.19%            62.464us         62.464us         1                []                                             \n",
      "empty                              0.07%            6.501us          0.07%            6.501us          6.501us          0.02%            6.144us          6.144us          1                []                                             \n",
      "clamp_out                          0.25%            24.990us         0.39%            38.437us         38.437us         0.12%            38.912us         38.912us         1                []                                             \n",
      "is_complex                         0.05%            4.853us          0.05%            4.853us          4.853us          0.02%            5.120us          5.120us          1                []                                             \n",
      "resize_                            0.09%            8.594us          0.09%            8.594us          8.594us          0.03%            9.216us          9.216us          1                []                                             \n",
      "---------------------------------  ---------------  ---------------  ---------------  ---------------  ---------------  ---------------  ---------------  ---------------  ---------------  ---------------------------------------------  \n",
      "Self CPU time total: 9.898ms\n",
      "CUDA time total: 33.066ms\n",
      "\n",
      "measured time(ms) 2.5813674926757812\n",
      "layer                                     name  gradient   parameters                shape         mu      sigma\n",
      "    0                  model.0.0.conv.0.weight      True           48        [16, 3, 1, 1]   -0.00589      0.326\n",
      "    1                  model.0.0.conv.1.weight      True           16                 [16]          1          0\n",
      "    2                    model.0.0.conv.1.bias      True           16                 [16]          0          0\n",
      "    3                  model.0.0.conv.3.weight      True          144        [16, 1, 3, 3]     0.0127       0.18\n",
      "    4                  model.0.0.conv.4.weight      True           16                 [16]          1          0\n",
      "    5                    model.0.0.conv.4.bias      True           16                 [16]          0          0\n",
      "    6                  model.0.0.conv.7.weight      True          384       [24, 16, 1, 1]  -0.000723      0.147\n",
      "    7                  model.0.0.conv.8.weight      True           24                 [24]          1          0\n",
      "    8                    model.0.0.conv.8.bias      True           24                 [24]          0          0\n",
      "    9                      model.1.conv.weight      True          864        [32, 3, 3, 3]   -0.00117       0.11\n",
      "   10                        model.1.bn.weight      True           32                 [32]          1          0\n",
      "   11                          model.1.bn.bias      True           32                 [32]          0          0\n",
      "   12                      model.2.conv.weight      True          864        [48, 2, 3, 3]   -0.00038      0.137\n",
      "   13                        model.2.bn.weight      True           48                 [48]          1          0\n",
      "   14                          model.2.bn.bias      True           48                 [48]          0          0\n",
      "   15                      model.3.conv.weight      True        13824       [32, 48, 3, 3]   4.85e-06     0.0277\n",
      "   16                        model.3.bn.weight      True           32                 [32]          1          0\n",
      "   17                          model.3.bn.bias      True           32                 [32]          0          0\n",
      "   18                      model.4.conv.weight      True         2592        [72, 4, 3, 3]   -0.00586     0.0956\n",
      "   19                        model.4.bn.weight      True           72                 [72]          1          0\n",
      "   20                          model.4.bn.bias      True           72                 [72]          0          0\n",
      "   21                  model.5.0.conv.0.weight      True        23616      [328, 72, 1, 1]  -0.000242     0.0681\n",
      "   22                  model.5.0.conv.1.weight      True          328                [328]          1          0\n",
      "   23                    model.5.0.conv.1.bias      True          328                [328]          0          0\n",
      "   24                  model.5.0.conv.3.weight      True         8200       [328, 1, 5, 5]  -0.000878      0.116\n",
      "   25                  model.5.0.conv.4.weight      True          328                [328]          1          0\n",
      "   26                    model.5.0.conv.4.bias      True          328                [328]          0          0\n",
      "   27                  model.5.0.conv.7.weight      True         5248      [16, 328, 1, 1]  -0.000377     0.0321\n",
      "   28                  model.5.0.conv.8.weight      True           16                 [16]          1          0\n",
      "   29                    model.5.0.conv.8.bias      True           16                 [16]          0          0\n",
      "   30                      model.6.conv.weight      True         9216       [64, 16, 3, 3]   0.000354     0.0486\n",
      "   31                        model.6.bn.weight      True           64                 [64]          1          0\n",
      "   32                          model.6.bn.bias      True           64                 [64]          0          0\n",
      "   33                  model.7.0.conv.0.weight      True         6144       [96, 64, 1, 1]   0.000358     0.0728\n",
      "   34                  model.7.0.conv.1.weight      True           96                 [96]          1          0\n",
      "   35                    model.7.0.conv.1.bias      True           96                 [96]          0          0\n",
      "   36                  model.7.0.conv.3.weight      True         2400        [96, 1, 5, 5]   -0.00258      0.115\n",
      "   37                  model.7.0.conv.4.weight      True           96                 [96]          1          0\n",
      "   38                    model.7.0.conv.4.bias      True           96                 [96]          0          0\n",
      "   39                  model.7.0.conv.7.weight      True         4608       [48, 96, 1, 1]    -0.0013     0.0588\n",
      "   40                  model.7.0.conv.8.weight      True           48                 [48]          1          0\n",
      "   41                    model.7.0.conv.8.bias      True           48                 [48]          0          0\n",
      "   42                      model.8.conv.weight      True         3072       [64, 48, 1, 1]  -0.000635     0.0829\n",
      "   43                        model.8.bn.weight      True           64                 [64]          1          0\n",
      "   44                          model.8.bn.bias      True           64                 [64]          0          0\n",
      "   45                     model.10.conv.weight      True          384        [6, 64, 1, 1]   -0.00172     0.0745\n",
      "   46                       model.10.bn.weight      True            6                  [6]          1          0\n",
      "   47                         model.10.bn.bias      True            6                  [6]          0          0\n",
      "Model Summary: 67 layers, 84,180 parameters, 84,180 gradients\n"
     ]
    },
    {
     "name": "stderr",
     "output_type": "stream",
     "text": [
      "Train: [001] Loss: 2.077, Acc: 20.40% F1(macro): 0.18: 100%|██████████| 36/36 [00:19<00:00,  1.89it/s]\n",
      " Val:       Loss: 1.815, Acc: 14.78% F1(macro): 0.08: 100%|██████████| 41/41 [00:28<00:00,  1.43it/s]\n"
     ]
    },
    {
     "name": "stdout",
     "output_type": "stream",
     "text": [
      "Model saved. Current best test f1: 0.081\n"
     ]
    },
    {
     "name": "stderr",
     "output_type": "stream",
     "text": [
      "Train: [002] Loss: 1.772, Acc: 27.00% F1(macro): 0.19: 100%|██████████| 36/36 [00:17<00:00,  2.08it/s]\n",
      " Val:       Loss: 1.686, Acc: 34.77% F1(macro): 0.20: 100%|██████████| 41/41 [00:26<00:00,  1.55it/s]\n"
     ]
    },
    {
     "name": "stdout",
     "output_type": "stream",
     "text": [
      "Model saved. Current best test f1: 0.205\n"
     ]
    },
    {
     "name": "stderr",
     "output_type": "stream",
     "text": [
      "Train: [003] Loss: 1.661, Acc: 35.24% F1(macro): 0.20: 100%|██████████| 36/36 [00:18<00:00,  1.93it/s]\n",
      " Val:       Loss: 1.602, Acc: 37.65% F1(macro): 0.24: 100%|██████████| 41/41 [00:26<00:00,  1.55it/s]\n"
     ]
    },
    {
     "name": "stdout",
     "output_type": "stream",
     "text": [
      "Model saved. Current best test f1: 0.240\n"
     ]
    },
    {
     "name": "stderr",
     "output_type": "stream",
     "text": [
      "Train: [004] Loss: 1.587, Acc: 37.04% F1(macro): 0.21: 100%|██████████| 36/36 [00:17<00:00,  2.01it/s]\n",
      " Val:       Loss: 1.537, Acc: 38.98% F1(macro): 0.24: 100%|██████████| 41/41 [00:27<00:00,  1.48it/s]\n"
     ]
    },
    {
     "name": "stdout",
     "output_type": "stream",
     "text": [
      "Model saved. Current best test f1: 0.242\n"
     ]
    },
    {
     "name": "stderr",
     "output_type": "stream",
     "text": [
      "Train: [005] Loss: 1.541, Acc: 38.15% F1(macro): 0.22: 100%|██████████| 36/36 [00:16<00:00,  2.21it/s]\n",
      " Val:       Loss: 1.499, Acc: 41.35% F1(macro): 0.23: 100%|██████████| 41/41 [00:26<00:00,  1.57it/s]\n",
      "Train: [006] Loss: 1.534, Acc: 36.96% F1(macro): 0.19: 100%|██████████| 36/36 [00:17<00:00,  2.02it/s]\n",
      " Val:       Loss: 1.482, Acc: 40.26% F1(macro): 0.26: 100%|██████████| 41/41 [00:27<00:00,  1.51it/s]\n"
     ]
    },
    {
     "name": "stdout",
     "output_type": "stream",
     "text": [
      "Model saved. Current best test f1: 0.256\n"
     ]
    },
    {
     "name": "stderr",
     "output_type": "stream",
     "text": [
      "Train: [007] Loss: 1.514, Acc: 38.89% F1(macro): 0.21: 100%|██████████| 36/36 [00:15<00:00,  2.27it/s]\n",
      " Val:       Loss: 1.457, Acc: 41.66% F1(macro): 0.26: 100%|██████████| 41/41 [00:25<00:00,  1.60it/s]\n"
     ]
    },
    {
     "name": "stdout",
     "output_type": "stream",
     "text": [
      "Model saved. Current best test f1: 0.262\n"
     ]
    },
    {
     "name": "stderr",
     "output_type": "stream",
     "text": [
      "Train: [008] Loss: 1.495, Acc: 39.71% F1(macro): 0.21: 100%|██████████| 36/36 [00:16<00:00,  2.24it/s]\n",
      " Val:       Loss: 1.506, Acc: 41.68% F1(macro): 0.20: 100%|██████████| 41/41 [00:27<00:00,  1.50it/s]\n",
      "Train: [009] Loss: 1.498, Acc: 39.24% F1(macro): 0.21: 100%|██████████| 36/36 [00:16<00:00,  2.20it/s]\n",
      " Val:       Loss: 1.429, Acc: 43.35% F1(macro): 0.27: 100%|██████████| 41/41 [00:26<00:00,  1.57it/s]\n"
     ]
    },
    {
     "name": "stdout",
     "output_type": "stream",
     "text": [
      "Model saved. Current best test f1: 0.272\n"
     ]
    },
    {
     "name": "stderr",
     "output_type": "stream",
     "text": [
      "Train: [010] Loss: 1.476, Acc: 40.54% F1(macro): 0.24: 100%|██████████| 36/36 [00:16<00:00,  2.17it/s]\n",
      " Val:       Loss: 1.428, Acc: 43.24% F1(macro): 0.26: 100%|██████████| 41/41 [00:28<00:00,  1.44it/s]\n",
      "Train: [011] Loss: 1.473, Acc: 41.02% F1(macro): 0.23: 100%|██████████| 36/36 [00:16<00:00,  2.18it/s]\n",
      " Val:       Loss: 1.410, Acc: 43.95% F1(macro): 0.28: 100%|██████████| 41/41 [00:27<00:00,  1.52it/s]\n"
     ]
    },
    {
     "name": "stdout",
     "output_type": "stream",
     "text": [
      "Model saved. Current best test f1: 0.279\n"
     ]
    },
    {
     "name": "stderr",
     "output_type": "stream",
     "text": [
      "Train: [012] Loss: 1.473, Acc: 40.52% F1(macro): 0.23: 100%|██████████| 36/36 [00:18<00:00,  2.00it/s]\n",
      " Val:       Loss: 1.401, Acc: 44.37% F1(macro): 0.27: 100%|██████████| 41/41 [00:26<00:00,  1.55it/s]\n",
      "Train: [013] Loss: 1.451, Acc: 42.17% F1(macro): 0.25: 100%|██████████| 36/36 [00:16<00:00,  2.14it/s]\n",
      " Val:       Loss: 1.405, Acc: 43.18% F1(macro): 0.21: 100%|██████████| 41/41 [00:25<00:00,  1.59it/s]\n",
      "Train: [014] Loss: 1.457, Acc: 41.45% F1(macro): 0.23: 100%|██████████| 36/36 [00:17<00:00,  2.10it/s]\n",
      " Val:       Loss: 1.398, Acc: 43.93% F1(macro): 0.29: 100%|██████████| 41/41 [00:26<00:00,  1.55it/s]\n"
     ]
    },
    {
     "name": "stdout",
     "output_type": "stream",
     "text": [
      "Model saved. Current best test f1: 0.286\n"
     ]
    },
    {
     "name": "stderr",
     "output_type": "stream",
     "text": [
      "Train: [015] Loss: 1.452, Acc: 41.58% F1(macro): 0.25: 100%|██████████| 36/36 [00:19<00:00,  1.87it/s]\n",
      " Val:       Loss: 1.394, Acc: 45.31% F1(macro): 0.27: 100%|██████████| 41/41 [00:26<00:00,  1.53it/s]\n",
      "Train: [016] Loss: 1.446, Acc: 41.88% F1(macro): 0.24: 100%|██████████| 36/36 [00:15<00:00,  2.26it/s]\n",
      " Val:       Loss: 1.382, Acc: 45.02% F1(macro): 0.26: 100%|██████████| 41/41 [00:26<00:00,  1.55it/s]\n",
      "Train: [017] Loss: 1.452, Acc: 42.08% F1(macro): 0.24: 100%|██████████| 36/36 [00:18<00:00,  1.90it/s]\n",
      " Val:       Loss: 1.384, Acc: 45.02% F1(macro): 0.30: 100%|██████████| 41/41 [00:25<00:00,  1.61it/s]\n"
     ]
    },
    {
     "name": "stdout",
     "output_type": "stream",
     "text": [
      "Model saved. Current best test f1: 0.305\n"
     ]
    },
    {
     "name": "stderr",
     "output_type": "stream",
     "text": [
      "Train: [018] Loss: 1.424, Acc: 43.38% F1(macro): 0.27: 100%|██████████| 36/36 [00:15<00:00,  2.33it/s]\n",
      " Val:       Loss: 1.343, Acc: 47.50% F1(macro): 0.32: 100%|██████████| 41/41 [00:29<00:00,  1.41it/s]\n"
     ]
    },
    {
     "name": "stdout",
     "output_type": "stream",
     "text": [
      "Model saved. Current best test f1: 0.322\n"
     ]
    },
    {
     "name": "stderr",
     "output_type": "stream",
     "text": [
      "Train: [019] Loss: 1.426, Acc: 42.93% F1(macro): 0.27: 100%|██████████| 36/36 [00:18<00:00,  1.90it/s]\n",
      " Val:       Loss: 1.459, Acc: 42.06% F1(macro): 0.27: 100%|██████████| 41/41 [00:25<00:00,  1.58it/s]\n",
      "Train: [020] Loss: 1.427, Acc: 43.36% F1(macro): 0.27: 100%|██████████| 36/36 [00:16<00:00,  2.20it/s]\n",
      " Val:       Loss: 1.351, Acc: 47.23% F1(macro): 0.34: 100%|██████████| 41/41 [00:27<00:00,  1.48it/s]\n"
     ]
    },
    {
     "name": "stdout",
     "output_type": "stream",
     "text": [
      "Model saved. Current best test f1: 0.343\n"
     ]
    },
    {
     "name": "stderr",
     "output_type": "stream",
     "text": [
      "Train: [021] Loss: 1.409, Acc: 44.01% F1(macro): 0.28: 100%|██████████| 36/36 [00:17<00:00,  2.04it/s]\n",
      " Val:       Loss: 1.365, Acc: 46.36% F1(macro): 0.30: 100%|██████████| 41/41 [00:25<00:00,  1.59it/s]\n",
      "Train: [022] Loss: 1.412, Acc: 44.23% F1(macro): 0.29: 100%|██████████| 36/36 [00:16<00:00,  2.22it/s]\n",
      " Val:       Loss: 1.389, Acc: 46.17% F1(macro): 0.27: 100%|██████████| 41/41 [00:27<00:00,  1.50it/s]\n",
      "Train: [023] Loss: 1.417, Acc: 43.27% F1(macro): 0.27: 100%|██████████| 36/36 [00:17<00:00,  2.03it/s]\n",
      " Val:       Loss: 1.343, Acc: 47.32% F1(macro): 0.32: 100%|██████████| 41/41 [00:26<00:00,  1.55it/s]\n",
      "Train: [024] Loss: 1.397, Acc: 45.03% F1(macro): 0.28: 100%|██████████| 36/36 [00:16<00:00,  2.18it/s]\n",
      " Val:       Loss: 1.371, Acc: 46.73% F1(macro): 0.29: 100%|██████████| 41/41 [00:26<00:00,  1.55it/s]\n",
      "Train: [025] Loss: 1.380, Acc: 45.53% F1(macro): 0.30: 100%|██████████| 36/36 [00:17<00:00,  2.06it/s]\n",
      " Val:       Loss: 1.361, Acc: 46.67% F1(macro): 0.28: 100%|██████████| 41/41 [00:27<00:00,  1.48it/s]\n",
      "Train: [026] Loss: 1.404, Acc: 44.84% F1(macro): 0.29: 100%|██████████| 36/36 [00:19<00:00,  1.89it/s]\n",
      " Val:       Loss: 1.320, Acc: 48.80% F1(macro): 0.30: 100%|██████████| 41/41 [00:27<00:00,  1.48it/s]\n",
      "Train: [027] Loss: 1.390, Acc: 45.57% F1(macro): 0.28: 100%|██████████| 36/36 [00:16<00:00,  2.15it/s]\n",
      " Val:       Loss: 1.337, Acc: 47.55% F1(macro): 0.32: 100%|██████████| 41/41 [00:25<00:00,  1.62it/s]\n",
      "Train: [028] Loss: 1.386, Acc: 45.40% F1(macro): 0.29: 100%|██████████| 36/36 [00:15<00:00,  2.33it/s]\n",
      " Val:       Loss: 1.343, Acc: 48.17% F1(macro): 0.30: 100%|██████████| 41/41 [00:25<00:00,  1.61it/s]\n",
      "Train: [029] Loss: 1.372, Acc: 46.38% F1(macro): 0.30: 100%|██████████| 36/36 [00:17<00:00,  2.10it/s]\n",
      " Val:       Loss: 1.329, Acc: 48.28% F1(macro): 0.33: 100%|██████████| 41/41 [00:27<00:00,  1.47it/s]\n",
      "Train: [030] Loss: 1.373, Acc: 45.96% F1(macro): 0.30: 100%|██████████| 36/36 [00:16<00:00,  2.12it/s]\n",
      " Val:       Loss: 1.306, Acc: 49.01% F1(macro): 0.32: 100%|██████████| 41/41 [00:25<00:00,  1.61it/s]\n",
      "Train: [031] Loss: 1.358, Acc: 46.83% F1(macro): 0.30: 100%|██████████| 36/36 [00:18<00:00,  1.99it/s]\n",
      " Val:       Loss: 1.361, Acc: 47.48% F1(macro): 0.32: 100%|██████████| 41/41 [00:29<00:00,  1.40it/s]\n",
      "Train: [032] Loss: 1.369, Acc: 45.99% F1(macro): 0.30: 100%|██████████| 36/36 [00:18<00:00,  1.99it/s]\n",
      "  0%|          | 0/41 [00:00<?, ?it/s]"
     ]
    }
   ],
   "source": [
    "parser = argparse.ArgumentParser(description=\"Optuna tuner.\")\n",
    "parser.add_argument(\"--gpu\", default=0, type=int, help=\"GPU id to use\")\n",
    "parser.add_argument(\"--storage\", default=\"\", type=str, help=\"Optuna database storage path.\")\n",
    "parser.add_argument(\"--fp16\", default=False, type=bool, help=\"train to fp16\")\n",
    "args = parser.parse_args([])  \n",
    "tune(args.gpu, storage=args.storage if args.storage != \"\" else None, fp16=args.fp16)"
   ]
  },
  {
   "cell_type": "code",
   "execution_count": null,
   "metadata": {},
   "outputs": [],
   "source": []
  }
 ],
 "metadata": {
  "interpreter": {
   "hash": "d4d1e4263499bec80672ea0156c357c1ee493ec2b1c70f0acce89fc37c4a6abe"
  },
  "kernelspec": {
   "display_name": "Python 3.8.5 64-bit ('base': conda)",
   "language": "python",
   "name": "python3"
  },
  "language_info": {
   "codemirror_mode": {
    "name": "ipython",
    "version": 3
   },
   "file_extension": ".py",
   "mimetype": "text/x-python",
   "name": "python",
   "nbconvert_exporter": "python",
   "pygments_lexer": "ipython3",
   "version": "3.8.5"
  },
  "orig_nbformat": 4
 },
 "nbformat": 4,
 "nbformat_minor": 2
}
